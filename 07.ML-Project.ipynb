{
 "cells": [
  {
   "cell_type": "markdown",
   "metadata": {},
   "source": [
    "#### Predicting players rating\n",
    "\n",
    "In this project you are going to predict the overall rating of soccer player based on their attributes such as 'crossing', 'finishing etc.\n",
    "\n",
    "The dataset you are going to use is from European Soccer Database (https://www.kaggle.com/hugomathien/soccer) has more than 25,000 matches and more than 10,000 players for European professional soccer seasons from 2008 to 2016.\n",
    "\n",
    "Download the data in the same folder and run the following commmand to get it in the environment.\n",
    "\n",
    "About the Dataset\n",
    "\n",
    "The ultimate Soccer database for data analysis and machine learning. The dataset comes in the form of an SQL database and contains statistics of about 25,000 football matches, from the top football league of 11 European Countries. It covers seasons from 2008 to 2016 and contains match statistics (i.e: scores, corners, fouls etc...) as well as the team\n",
    "formations, with player names and a pair of coordinates to indicate their position on the pitch.\n",
    "\n",
    "    •\t+25,000 matches\n",
    "    •\t+10,000 players\n",
    "    •\t11 European Countries with their lead championship\n",
    "    •\tSeasons 2008 to 2016\n",
    "    •\tPlayers and Teams' attributes* sourced from EA Sports' FIFA video game series, including\n",
    "    •\tthe weekly updates\n",
    "    •\tTeam line up with squad formation (X, Y coordinates)\n",
    "    •\tBetting odds from up to 10 providers\n",
    "    •\tDetailed match events (goal types, possession, corner, cross, fouls, cards etc...) for\n",
    "    •\t+10,000 matches\n",
    "\n",
    "The dataset also has a set of about 35 statistics for each player, derived from EA Sports' FIFA video games. It is not just the stats that come with a new version of the game but also the weekly updates. So for instance if a player has performed poorly over a period of time and his stats get impacted in FIFA, you would normally see the same in the dataset.\n",
    "\n",
    "Python skills required to complete this project \n",
    "\n",
    "SQL: The data is in SQL database so students need to retrive using query language. They also need to know how to connect SQL database woth python. The library we are using for this in 'sqlite3'.\n",
    "\n",
    "SQLite3 can be integrated with Python using sqlite3 module, which was written by Gerhard Haring. It provides an SQL interface compliant with the DB-API 2.0 specification described by PEP 249. You do not need to install this module separately because it is shipped by default along with Python version 2.5.x onwards. To use sqlite3 module, you must first create a connection object that represents the database and then optionally you can create a cursor object, which will help you in executing all the SQL\n",
    "statements.\n",
    "\n",
    "Pandas: Pandas is an open-source, BSD-licensed Python library providing high-performance, easy-to-use data structures and data analysis tools for the Python programming language. Python with Pandas is used in a wide range of fields including academic and commercial domains including\n",
    "finance, economics, Statistics, analytics, etc.In this tutorial, we will learn the various features of Python Pandas and how to use them in practice.\n",
    "\n",
    "Scikit Learn: Scikit-learn provides a range of supervised and unsupervised learning algorithms via a consistent interface in Python.\n",
    "The library is built upon the SciPy (Scientific Python) that must be installed before you can use scikit-learn. This stack that includes:\n",
    "\n",
    "    •\tNumPy: Base n-dimensional array package\n",
    "    •\tSciPy: Fundamental library for scientific computing\n",
    "    •\tMatplotlib: Comprehensive 2D/3D plotting\n",
    "    •\tIPython: Enhanced interactive console\n",
    "    •\tSympy: Symbolic mathematics\n",
    "    •\tPandas: Data structures and analysis\n",
    "\n",
    "Extensions or modules for SciPy care conventionally named SciKits. As such, the module provides learning algorithms and is named scikit-learn.\n",
    "\n",
    "The vision for the library is a level of robustness and support required for use in production systems. This means a deep focus on concerns such as easy of use, code quality, collaboration, documentation and performance.\n",
    "\n",
    "Machine Learning skills required to complete the project\n",
    "\n",
    "Supervised learning\n",
    "\n",
    "Supervised learning deals with learning a function from available training data. A supervised learning algorithm analyzes the training data and produces an inferred function, which can be used for mapping new examples.\n",
    "\n",
    "Regression\n",
    "\n",
    "Regression is a parametric technique used to predict continuous (dependent) variable given a set of independent variables. It is parametric in nature because it makes certain assumptions (discussed next) based on the data set. If the data set follows those assumptions, regression gives incredible results.\n",
    "\n",
    "Model evaluation\n",
    "\n",
    "Student must know how to judge a model on unseen data. What metric to select to judge the performance\n",
    "\n",
    "\n",
    "Let's get started.....\n",
    "\n",
    "Import Libraries\n",
    "\n",
    "    import sqlite3\n",
    "    import pandas as pd\n",
    "    from sklearn.tree import DecisionTreeRegressor \n",
    "    from sklearn.linear_model import LinearRegression \n",
    "    from sklearn.model_selection import train_test_split\n",
    "    from sklearn.metrics import mean_squared_error \n",
    "    from math import sqrt\n",
    "\n",
    "Read Data from the Database into pandas\n",
    "\n",
    "\n",
    "Create your connection.\n",
    "\n",
    "    cnx = sqlite3.connect('database.sqlite')\n",
    "    df = pd.read_sql_query(\"SELECT * FROM Player_Attributes\", cnx)\n",
    "    df.head()\n",
    "\n",
    "Task: Deploy this assignment in any cloud platform.(Try to look for free cloud platform)\n",
    "\n",
    "Assignment: Submit assignment’s deployable link only."
   ]
  },
  {
   "cell_type": "code",
   "execution_count": 1,
   "metadata": {},
   "outputs": [],
   "source": [
    "import sqlite3\n",
    "import numpy as np\n",
    "import pandas as pd\n",
    "%matplotlib notebook\n",
    "import matplotlib.pyplot as plt\n",
    "import xgboost as xgb\n",
    "from xgboost.sklearn import XGBRegressor\n",
    "from xgboost import plot_importance\n",
    "from sklearn.model_selection import train_test_split\n",
    "from sklearn.metrics import mean_squared_error \n",
    "from math import sqrt\n",
    "from sklearn.linear_model import LinearRegression\n",
    "from sklearn.tree import DecisionTreeRegressor\n",
    "from sklearn.ensemble import RandomForestRegressor\n",
    "from sklearn.preprocessing import StandardScaler\n",
    "from sklearn.feature_selection import SelectFromModel\n",
    "from sklearn.model_selection import train_test_split, GridSearchCV, ShuffleSplit, RandomizedSearchCV\n",
    "from sklearn.pipeline import make_pipeline\n",
    "import pickle"
   ]
  },
  {
   "cell_type": "markdown",
   "metadata": {},
   "source": [
    "Reading Data from the Database into pandas"
   ]
  },
  {
   "cell_type": "code",
   "execution_count": 33,
   "metadata": {},
   "outputs": [],
   "source": [
    "cnx = sqlite3.connect('datafiles/database.sqlite')"
   ]
  },
  {
   "cell_type": "code",
   "execution_count": 34,
   "metadata": {},
   "outputs": [],
   "source": [
    "df= pd.read_sql_query(\"SELECT * FROM Player_Attributes\", cnx)"
   ]
  },
  {
   "cell_type": "code",
   "execution_count": 35,
   "metadata": {},
   "outputs": [
    {
     "data": {
      "text/html": [
       "<div>\n",
       "<style scoped>\n",
       "    .dataframe tbody tr th:only-of-type {\n",
       "        vertical-align: middle;\n",
       "    }\n",
       "\n",
       "    .dataframe tbody tr th {\n",
       "        vertical-align: top;\n",
       "    }\n",
       "\n",
       "    .dataframe thead th {\n",
       "        text-align: right;\n",
       "    }\n",
       "</style>\n",
       "<table border=\"1\" class=\"dataframe\">\n",
       "  <thead>\n",
       "    <tr style=\"text-align: right;\">\n",
       "      <th></th>\n",
       "      <th>id</th>\n",
       "      <th>player_fifa_api_id</th>\n",
       "      <th>player_api_id</th>\n",
       "      <th>date</th>\n",
       "      <th>overall_rating</th>\n",
       "      <th>potential</th>\n",
       "      <th>preferred_foot</th>\n",
       "      <th>attacking_work_rate</th>\n",
       "      <th>defensive_work_rate</th>\n",
       "      <th>crossing</th>\n",
       "      <th>...</th>\n",
       "      <th>vision</th>\n",
       "      <th>penalties</th>\n",
       "      <th>marking</th>\n",
       "      <th>standing_tackle</th>\n",
       "      <th>sliding_tackle</th>\n",
       "      <th>gk_diving</th>\n",
       "      <th>gk_handling</th>\n",
       "      <th>gk_kicking</th>\n",
       "      <th>gk_positioning</th>\n",
       "      <th>gk_reflexes</th>\n",
       "    </tr>\n",
       "  </thead>\n",
       "  <tbody>\n",
       "    <tr>\n",
       "      <th>0</th>\n",
       "      <td>1</td>\n",
       "      <td>218353</td>\n",
       "      <td>505942</td>\n",
       "      <td>2016-02-18 00:00:00</td>\n",
       "      <td>67.0</td>\n",
       "      <td>71.0</td>\n",
       "      <td>right</td>\n",
       "      <td>medium</td>\n",
       "      <td>medium</td>\n",
       "      <td>49.0</td>\n",
       "      <td>...</td>\n",
       "      <td>54.0</td>\n",
       "      <td>48.0</td>\n",
       "      <td>65.0</td>\n",
       "      <td>69.0</td>\n",
       "      <td>69.0</td>\n",
       "      <td>6.0</td>\n",
       "      <td>11.0</td>\n",
       "      <td>10.0</td>\n",
       "      <td>8.0</td>\n",
       "      <td>8.0</td>\n",
       "    </tr>\n",
       "    <tr>\n",
       "      <th>1</th>\n",
       "      <td>2</td>\n",
       "      <td>218353</td>\n",
       "      <td>505942</td>\n",
       "      <td>2015-11-19 00:00:00</td>\n",
       "      <td>67.0</td>\n",
       "      <td>71.0</td>\n",
       "      <td>right</td>\n",
       "      <td>medium</td>\n",
       "      <td>medium</td>\n",
       "      <td>49.0</td>\n",
       "      <td>...</td>\n",
       "      <td>54.0</td>\n",
       "      <td>48.0</td>\n",
       "      <td>65.0</td>\n",
       "      <td>69.0</td>\n",
       "      <td>69.0</td>\n",
       "      <td>6.0</td>\n",
       "      <td>11.0</td>\n",
       "      <td>10.0</td>\n",
       "      <td>8.0</td>\n",
       "      <td>8.0</td>\n",
       "    </tr>\n",
       "    <tr>\n",
       "      <th>2</th>\n",
       "      <td>3</td>\n",
       "      <td>218353</td>\n",
       "      <td>505942</td>\n",
       "      <td>2015-09-21 00:00:00</td>\n",
       "      <td>62.0</td>\n",
       "      <td>66.0</td>\n",
       "      <td>right</td>\n",
       "      <td>medium</td>\n",
       "      <td>medium</td>\n",
       "      <td>49.0</td>\n",
       "      <td>...</td>\n",
       "      <td>54.0</td>\n",
       "      <td>48.0</td>\n",
       "      <td>65.0</td>\n",
       "      <td>66.0</td>\n",
       "      <td>69.0</td>\n",
       "      <td>6.0</td>\n",
       "      <td>11.0</td>\n",
       "      <td>10.0</td>\n",
       "      <td>8.0</td>\n",
       "      <td>8.0</td>\n",
       "    </tr>\n",
       "    <tr>\n",
       "      <th>3</th>\n",
       "      <td>4</td>\n",
       "      <td>218353</td>\n",
       "      <td>505942</td>\n",
       "      <td>2015-03-20 00:00:00</td>\n",
       "      <td>61.0</td>\n",
       "      <td>65.0</td>\n",
       "      <td>right</td>\n",
       "      <td>medium</td>\n",
       "      <td>medium</td>\n",
       "      <td>48.0</td>\n",
       "      <td>...</td>\n",
       "      <td>53.0</td>\n",
       "      <td>47.0</td>\n",
       "      <td>62.0</td>\n",
       "      <td>63.0</td>\n",
       "      <td>66.0</td>\n",
       "      <td>5.0</td>\n",
       "      <td>10.0</td>\n",
       "      <td>9.0</td>\n",
       "      <td>7.0</td>\n",
       "      <td>7.0</td>\n",
       "    </tr>\n",
       "    <tr>\n",
       "      <th>4</th>\n",
       "      <td>5</td>\n",
       "      <td>218353</td>\n",
       "      <td>505942</td>\n",
       "      <td>2007-02-22 00:00:00</td>\n",
       "      <td>61.0</td>\n",
       "      <td>65.0</td>\n",
       "      <td>right</td>\n",
       "      <td>medium</td>\n",
       "      <td>medium</td>\n",
       "      <td>48.0</td>\n",
       "      <td>...</td>\n",
       "      <td>53.0</td>\n",
       "      <td>47.0</td>\n",
       "      <td>62.0</td>\n",
       "      <td>63.0</td>\n",
       "      <td>66.0</td>\n",
       "      <td>5.0</td>\n",
       "      <td>10.0</td>\n",
       "      <td>9.0</td>\n",
       "      <td>7.0</td>\n",
       "      <td>7.0</td>\n",
       "    </tr>\n",
       "  </tbody>\n",
       "</table>\n",
       "<p>5 rows × 42 columns</p>\n",
       "</div>"
      ],
      "text/plain": [
       "   id  player_fifa_api_id  player_api_id                 date  overall_rating  \\\n",
       "0   1              218353         505942  2016-02-18 00:00:00            67.0   \n",
       "1   2              218353         505942  2015-11-19 00:00:00            67.0   \n",
       "2   3              218353         505942  2015-09-21 00:00:00            62.0   \n",
       "3   4              218353         505942  2015-03-20 00:00:00            61.0   \n",
       "4   5              218353         505942  2007-02-22 00:00:00            61.0   \n",
       "\n",
       "   potential preferred_foot attacking_work_rate defensive_work_rate  crossing  \\\n",
       "0       71.0          right              medium              medium      49.0   \n",
       "1       71.0          right              medium              medium      49.0   \n",
       "2       66.0          right              medium              medium      49.0   \n",
       "3       65.0          right              medium              medium      48.0   \n",
       "4       65.0          right              medium              medium      48.0   \n",
       "\n",
       "   ...  vision  penalties  marking  standing_tackle  sliding_tackle  \\\n",
       "0  ...    54.0       48.0     65.0             69.0            69.0   \n",
       "1  ...    54.0       48.0     65.0             69.0            69.0   \n",
       "2  ...    54.0       48.0     65.0             66.0            69.0   \n",
       "3  ...    53.0       47.0     62.0             63.0            66.0   \n",
       "4  ...    53.0       47.0     62.0             63.0            66.0   \n",
       "\n",
       "   gk_diving  gk_handling  gk_kicking  gk_positioning  gk_reflexes  \n",
       "0        6.0         11.0        10.0             8.0          8.0  \n",
       "1        6.0         11.0        10.0             8.0          8.0  \n",
       "2        6.0         11.0        10.0             8.0          8.0  \n",
       "3        5.0         10.0         9.0             7.0          7.0  \n",
       "4        5.0         10.0         9.0             7.0          7.0  \n",
       "\n",
       "[5 rows x 42 columns]"
      ]
     },
     "execution_count": 35,
     "metadata": {},
     "output_type": "execute_result"
    }
   ],
   "source": [
    "df.head()"
   ]
  },
  {
   "cell_type": "markdown",
   "metadata": {},
   "source": [
    "Creating Target variable:"
   ]
  },
  {
   "cell_type": "code",
   "execution_count": 36,
   "metadata": {},
   "outputs": [],
   "source": [
    "target = df.pop('overall_rating')"
   ]
  },
  {
   "cell_type": "code",
   "execution_count": 37,
   "metadata": {},
   "outputs": [
    {
     "data": {
      "text/plain": [
       "0    67.0\n",
       "1    67.0\n",
       "2    62.0\n",
       "3    61.0\n",
       "4    61.0\n",
       "Name: overall_rating, dtype: float64"
      ]
     },
     "execution_count": 37,
     "metadata": {},
     "output_type": "execute_result"
    }
   ],
   "source": [
    "target.head()"
   ]
  },
  {
   "cell_type": "code",
   "execution_count": 38,
   "metadata": {},
   "outputs": [
    {
     "data": {
      "text/plain": [
       "(183978, 41)"
      ]
     },
     "execution_count": 38,
     "metadata": {},
     "output_type": "execute_result"
    }
   ],
   "source": [
    "df.shape"
   ]
  },
  {
   "cell_type": "code",
   "execution_count": 39,
   "metadata": {},
   "outputs": [
    {
     "data": {
      "text/html": [
       "<div>\n",
       "<style scoped>\n",
       "    .dataframe tbody tr th:only-of-type {\n",
       "        vertical-align: middle;\n",
       "    }\n",
       "\n",
       "    .dataframe tbody tr th {\n",
       "        vertical-align: top;\n",
       "    }\n",
       "\n",
       "    .dataframe thead th {\n",
       "        text-align: right;\n",
       "    }\n",
       "</style>\n",
       "<table border=\"1\" class=\"dataframe\">\n",
       "  <thead>\n",
       "    <tr style=\"text-align: right;\">\n",
       "      <th></th>\n",
       "      <th>id</th>\n",
       "      <th>player_fifa_api_id</th>\n",
       "      <th>player_api_id</th>\n",
       "      <th>date</th>\n",
       "      <th>potential</th>\n",
       "      <th>preferred_foot</th>\n",
       "      <th>attacking_work_rate</th>\n",
       "      <th>defensive_work_rate</th>\n",
       "      <th>crossing</th>\n",
       "      <th>finishing</th>\n",
       "      <th>...</th>\n",
       "      <th>vision</th>\n",
       "      <th>penalties</th>\n",
       "      <th>marking</th>\n",
       "      <th>standing_tackle</th>\n",
       "      <th>sliding_tackle</th>\n",
       "      <th>gk_diving</th>\n",
       "      <th>gk_handling</th>\n",
       "      <th>gk_kicking</th>\n",
       "      <th>gk_positioning</th>\n",
       "      <th>gk_reflexes</th>\n",
       "    </tr>\n",
       "  </thead>\n",
       "  <tbody>\n",
       "    <tr>\n",
       "      <th>0</th>\n",
       "      <td>1</td>\n",
       "      <td>218353</td>\n",
       "      <td>505942</td>\n",
       "      <td>2016-02-18 00:00:00</td>\n",
       "      <td>71.0</td>\n",
       "      <td>right</td>\n",
       "      <td>medium</td>\n",
       "      <td>medium</td>\n",
       "      <td>49.0</td>\n",
       "      <td>44.0</td>\n",
       "      <td>...</td>\n",
       "      <td>54.0</td>\n",
       "      <td>48.0</td>\n",
       "      <td>65.0</td>\n",
       "      <td>69.0</td>\n",
       "      <td>69.0</td>\n",
       "      <td>6.0</td>\n",
       "      <td>11.0</td>\n",
       "      <td>10.0</td>\n",
       "      <td>8.0</td>\n",
       "      <td>8.0</td>\n",
       "    </tr>\n",
       "    <tr>\n",
       "      <th>1</th>\n",
       "      <td>2</td>\n",
       "      <td>218353</td>\n",
       "      <td>505942</td>\n",
       "      <td>2015-11-19 00:00:00</td>\n",
       "      <td>71.0</td>\n",
       "      <td>right</td>\n",
       "      <td>medium</td>\n",
       "      <td>medium</td>\n",
       "      <td>49.0</td>\n",
       "      <td>44.0</td>\n",
       "      <td>...</td>\n",
       "      <td>54.0</td>\n",
       "      <td>48.0</td>\n",
       "      <td>65.0</td>\n",
       "      <td>69.0</td>\n",
       "      <td>69.0</td>\n",
       "      <td>6.0</td>\n",
       "      <td>11.0</td>\n",
       "      <td>10.0</td>\n",
       "      <td>8.0</td>\n",
       "      <td>8.0</td>\n",
       "    </tr>\n",
       "    <tr>\n",
       "      <th>2</th>\n",
       "      <td>3</td>\n",
       "      <td>218353</td>\n",
       "      <td>505942</td>\n",
       "      <td>2015-09-21 00:00:00</td>\n",
       "      <td>66.0</td>\n",
       "      <td>right</td>\n",
       "      <td>medium</td>\n",
       "      <td>medium</td>\n",
       "      <td>49.0</td>\n",
       "      <td>44.0</td>\n",
       "      <td>...</td>\n",
       "      <td>54.0</td>\n",
       "      <td>48.0</td>\n",
       "      <td>65.0</td>\n",
       "      <td>66.0</td>\n",
       "      <td>69.0</td>\n",
       "      <td>6.0</td>\n",
       "      <td>11.0</td>\n",
       "      <td>10.0</td>\n",
       "      <td>8.0</td>\n",
       "      <td>8.0</td>\n",
       "    </tr>\n",
       "    <tr>\n",
       "      <th>3</th>\n",
       "      <td>4</td>\n",
       "      <td>218353</td>\n",
       "      <td>505942</td>\n",
       "      <td>2015-03-20 00:00:00</td>\n",
       "      <td>65.0</td>\n",
       "      <td>right</td>\n",
       "      <td>medium</td>\n",
       "      <td>medium</td>\n",
       "      <td>48.0</td>\n",
       "      <td>43.0</td>\n",
       "      <td>...</td>\n",
       "      <td>53.0</td>\n",
       "      <td>47.0</td>\n",
       "      <td>62.0</td>\n",
       "      <td>63.0</td>\n",
       "      <td>66.0</td>\n",
       "      <td>5.0</td>\n",
       "      <td>10.0</td>\n",
       "      <td>9.0</td>\n",
       "      <td>7.0</td>\n",
       "      <td>7.0</td>\n",
       "    </tr>\n",
       "    <tr>\n",
       "      <th>4</th>\n",
       "      <td>5</td>\n",
       "      <td>218353</td>\n",
       "      <td>505942</td>\n",
       "      <td>2007-02-22 00:00:00</td>\n",
       "      <td>65.0</td>\n",
       "      <td>right</td>\n",
       "      <td>medium</td>\n",
       "      <td>medium</td>\n",
       "      <td>48.0</td>\n",
       "      <td>43.0</td>\n",
       "      <td>...</td>\n",
       "      <td>53.0</td>\n",
       "      <td>47.0</td>\n",
       "      <td>62.0</td>\n",
       "      <td>63.0</td>\n",
       "      <td>66.0</td>\n",
       "      <td>5.0</td>\n",
       "      <td>10.0</td>\n",
       "      <td>9.0</td>\n",
       "      <td>7.0</td>\n",
       "      <td>7.0</td>\n",
       "    </tr>\n",
       "  </tbody>\n",
       "</table>\n",
       "<p>5 rows × 41 columns</p>\n",
       "</div>"
      ],
      "text/plain": [
       "   id  player_fifa_api_id  player_api_id                 date  potential  \\\n",
       "0   1              218353         505942  2016-02-18 00:00:00       71.0   \n",
       "1   2              218353         505942  2015-11-19 00:00:00       71.0   \n",
       "2   3              218353         505942  2015-09-21 00:00:00       66.0   \n",
       "3   4              218353         505942  2015-03-20 00:00:00       65.0   \n",
       "4   5              218353         505942  2007-02-22 00:00:00       65.0   \n",
       "\n",
       "  preferred_foot attacking_work_rate defensive_work_rate  crossing  finishing  \\\n",
       "0          right              medium              medium      49.0       44.0   \n",
       "1          right              medium              medium      49.0       44.0   \n",
       "2          right              medium              medium      49.0       44.0   \n",
       "3          right              medium              medium      48.0       43.0   \n",
       "4          right              medium              medium      48.0       43.0   \n",
       "\n",
       "   ...  vision  penalties  marking  standing_tackle  sliding_tackle  \\\n",
       "0  ...    54.0       48.0     65.0             69.0            69.0   \n",
       "1  ...    54.0       48.0     65.0             69.0            69.0   \n",
       "2  ...    54.0       48.0     65.0             66.0            69.0   \n",
       "3  ...    53.0       47.0     62.0             63.0            66.0   \n",
       "4  ...    53.0       47.0     62.0             63.0            66.0   \n",
       "\n",
       "   gk_diving  gk_handling  gk_kicking  gk_positioning  gk_reflexes  \n",
       "0        6.0         11.0        10.0             8.0          8.0  \n",
       "1        6.0         11.0        10.0             8.0          8.0  \n",
       "2        6.0         11.0        10.0             8.0          8.0  \n",
       "3        5.0         10.0         9.0             7.0          7.0  \n",
       "4        5.0         10.0         9.0             7.0          7.0  \n",
       "\n",
       "[5 rows x 41 columns]"
      ]
     },
     "execution_count": 39,
     "metadata": {},
     "output_type": "execute_result"
    }
   ],
   "source": [
    "df.head()"
   ]
  },
  {
   "cell_type": "markdown",
   "metadata": {},
   "source": [
    "Imputing target funtion :"
   ]
  },
  {
   "cell_type": "code",
   "execution_count": 40,
   "metadata": {},
   "outputs": [
    {
     "data": {
      "text/plain": [
       "836"
      ]
     },
     "execution_count": 40,
     "metadata": {},
     "output_type": "execute_result"
    }
   ],
   "source": [
    "target.isnull().sum()"
   ]
  },
  {
   "cell_type": "code",
   "execution_count": 41,
   "metadata": {},
   "outputs": [
    {
     "data": {
      "text/plain": [
       "count    183142.000000\n",
       "mean         68.600015\n",
       "std           7.041139\n",
       "min          33.000000\n",
       "25%          64.000000\n",
       "50%          69.000000\n",
       "75%          73.000000\n",
       "max          94.000000\n",
       "Name: overall_rating, dtype: float64"
      ]
     },
     "execution_count": 41,
     "metadata": {},
     "output_type": "execute_result"
    }
   ],
   "source": [
    "target.describe()"
   ]
  },
  {
   "cell_type": "code",
   "execution_count": 42,
   "metadata": {},
   "outputs": [
    {
     "data": {
      "text/plain": [
       "0.45440215677961493"
      ]
     },
     "execution_count": 42,
     "metadata": {},
     "output_type": "execute_result"
    }
   ],
   "source": [
    "(target.isnull().sum()/target.shape[0]) *100 "
   ]
  },
  {
   "cell_type": "markdown",
   "metadata": {},
   "source": [
    "It's almost normal distribution so we can impute mean value for missing value in target."
   ]
  },
  {
   "cell_type": "code",
   "execution_count": 43,
   "metadata": {},
   "outputs": [],
   "source": [
    "y = target.fillna(target.mean())"
   ]
  },
  {
   "cell_type": "code",
   "execution_count": 44,
   "metadata": {},
   "outputs": [
    {
     "data": {
      "text/plain": [
       "False"
      ]
     },
     "execution_count": 44,
     "metadata": {},
     "output_type": "execute_result"
    }
   ],
   "source": [
    "y.isnull().values.any()"
   ]
  },
  {
   "cell_type": "code",
   "execution_count": 45,
   "metadata": {},
   "outputs": [
    {
     "data": {
      "application/javascript": [
       "/* Put everything inside the global mpl namespace */\n",
       "/* global mpl */\n",
       "window.mpl = {};\n",
       "\n",
       "mpl.get_websocket_type = function () {\n",
       "    if (typeof WebSocket !== 'undefined') {\n",
       "        return WebSocket;\n",
       "    } else if (typeof MozWebSocket !== 'undefined') {\n",
       "        return MozWebSocket;\n",
       "    } else {\n",
       "        alert(\n",
       "            'Your browser does not have WebSocket support. ' +\n",
       "                'Please try Chrome, Safari or Firefox ≥ 6. ' +\n",
       "                'Firefox 4 and 5 are also supported but you ' +\n",
       "                'have to enable WebSockets in about:config.'\n",
       "        );\n",
       "    }\n",
       "};\n",
       "\n",
       "mpl.figure = function (figure_id, websocket, ondownload, parent_element) {\n",
       "    this.id = figure_id;\n",
       "\n",
       "    this.ws = websocket;\n",
       "\n",
       "    this.supports_binary = this.ws.binaryType !== undefined;\n",
       "\n",
       "    if (!this.supports_binary) {\n",
       "        var warnings = document.getElementById('mpl-warnings');\n",
       "        if (warnings) {\n",
       "            warnings.style.display = 'block';\n",
       "            warnings.textContent =\n",
       "                'This browser does not support binary websocket messages. ' +\n",
       "                'Performance may be slow.';\n",
       "        }\n",
       "    }\n",
       "\n",
       "    this.imageObj = new Image();\n",
       "\n",
       "    this.context = undefined;\n",
       "    this.message = undefined;\n",
       "    this.canvas = undefined;\n",
       "    this.rubberband_canvas = undefined;\n",
       "    this.rubberband_context = undefined;\n",
       "    this.format_dropdown = undefined;\n",
       "\n",
       "    this.image_mode = 'full';\n",
       "\n",
       "    this.root = document.createElement('div');\n",
       "    this.root.setAttribute('style', 'display: inline-block');\n",
       "    this._root_extra_style(this.root);\n",
       "\n",
       "    parent_element.appendChild(this.root);\n",
       "\n",
       "    this._init_header(this);\n",
       "    this._init_canvas(this);\n",
       "    this._init_toolbar(this);\n",
       "\n",
       "    var fig = this;\n",
       "\n",
       "    this.waiting = false;\n",
       "\n",
       "    this.ws.onopen = function () {\n",
       "        fig.send_message('supports_binary', { value: fig.supports_binary });\n",
       "        fig.send_message('send_image_mode', {});\n",
       "        if (fig.ratio !== 1) {\n",
       "            fig.send_message('set_device_pixel_ratio', {\n",
       "                device_pixel_ratio: fig.ratio,\n",
       "            });\n",
       "        }\n",
       "        fig.send_message('refresh', {});\n",
       "    };\n",
       "\n",
       "    this.imageObj.onload = function () {\n",
       "        if (fig.image_mode === 'full') {\n",
       "            // Full images could contain transparency (where diff images\n",
       "            // almost always do), so we need to clear the canvas so that\n",
       "            // there is no ghosting.\n",
       "            fig.context.clearRect(0, 0, fig.canvas.width, fig.canvas.height);\n",
       "        }\n",
       "        fig.context.drawImage(fig.imageObj, 0, 0);\n",
       "    };\n",
       "\n",
       "    this.imageObj.onunload = function () {\n",
       "        fig.ws.close();\n",
       "    };\n",
       "\n",
       "    this.ws.onmessage = this._make_on_message_function(this);\n",
       "\n",
       "    this.ondownload = ondownload;\n",
       "};\n",
       "\n",
       "mpl.figure.prototype._init_header = function () {\n",
       "    var titlebar = document.createElement('div');\n",
       "    titlebar.classList =\n",
       "        'ui-dialog-titlebar ui-widget-header ui-corner-all ui-helper-clearfix';\n",
       "    var titletext = document.createElement('div');\n",
       "    titletext.classList = 'ui-dialog-title';\n",
       "    titletext.setAttribute(\n",
       "        'style',\n",
       "        'width: 100%; text-align: center; padding: 3px;'\n",
       "    );\n",
       "    titlebar.appendChild(titletext);\n",
       "    this.root.appendChild(titlebar);\n",
       "    this.header = titletext;\n",
       "};\n",
       "\n",
       "mpl.figure.prototype._canvas_extra_style = function (_canvas_div) {};\n",
       "\n",
       "mpl.figure.prototype._root_extra_style = function (_canvas_div) {};\n",
       "\n",
       "mpl.figure.prototype._init_canvas = function () {\n",
       "    var fig = this;\n",
       "\n",
       "    var canvas_div = (this.canvas_div = document.createElement('div'));\n",
       "    canvas_div.setAttribute(\n",
       "        'style',\n",
       "        'border: 1px solid #ddd;' +\n",
       "            'box-sizing: content-box;' +\n",
       "            'clear: both;' +\n",
       "            'min-height: 1px;' +\n",
       "            'min-width: 1px;' +\n",
       "            'outline: 0;' +\n",
       "            'overflow: hidden;' +\n",
       "            'position: relative;' +\n",
       "            'resize: both;'\n",
       "    );\n",
       "\n",
       "    function on_keyboard_event_closure(name) {\n",
       "        return function (event) {\n",
       "            return fig.key_event(event, name);\n",
       "        };\n",
       "    }\n",
       "\n",
       "    canvas_div.addEventListener(\n",
       "        'keydown',\n",
       "        on_keyboard_event_closure('key_press')\n",
       "    );\n",
       "    canvas_div.addEventListener(\n",
       "        'keyup',\n",
       "        on_keyboard_event_closure('key_release')\n",
       "    );\n",
       "\n",
       "    this._canvas_extra_style(canvas_div);\n",
       "    this.root.appendChild(canvas_div);\n",
       "\n",
       "    var canvas = (this.canvas = document.createElement('canvas'));\n",
       "    canvas.classList.add('mpl-canvas');\n",
       "    canvas.setAttribute('style', 'box-sizing: content-box;');\n",
       "\n",
       "    this.context = canvas.getContext('2d');\n",
       "\n",
       "    var backingStore =\n",
       "        this.context.backingStorePixelRatio ||\n",
       "        this.context.webkitBackingStorePixelRatio ||\n",
       "        this.context.mozBackingStorePixelRatio ||\n",
       "        this.context.msBackingStorePixelRatio ||\n",
       "        this.context.oBackingStorePixelRatio ||\n",
       "        this.context.backingStorePixelRatio ||\n",
       "        1;\n",
       "\n",
       "    this.ratio = (window.devicePixelRatio || 1) / backingStore;\n",
       "\n",
       "    var rubberband_canvas = (this.rubberband_canvas = document.createElement(\n",
       "        'canvas'\n",
       "    ));\n",
       "    rubberband_canvas.setAttribute(\n",
       "        'style',\n",
       "        'box-sizing: content-box; position: absolute; left: 0; top: 0; z-index: 1;'\n",
       "    );\n",
       "\n",
       "    // Apply a ponyfill if ResizeObserver is not implemented by browser.\n",
       "    if (this.ResizeObserver === undefined) {\n",
       "        if (window.ResizeObserver !== undefined) {\n",
       "            this.ResizeObserver = window.ResizeObserver;\n",
       "        } else {\n",
       "            var obs = _JSXTOOLS_RESIZE_OBSERVER({});\n",
       "            this.ResizeObserver = obs.ResizeObserver;\n",
       "        }\n",
       "    }\n",
       "\n",
       "    this.resizeObserverInstance = new this.ResizeObserver(function (entries) {\n",
       "        var nentries = entries.length;\n",
       "        for (var i = 0; i < nentries; i++) {\n",
       "            var entry = entries[i];\n",
       "            var width, height;\n",
       "            if (entry.contentBoxSize) {\n",
       "                if (entry.contentBoxSize instanceof Array) {\n",
       "                    // Chrome 84 implements new version of spec.\n",
       "                    width = entry.contentBoxSize[0].inlineSize;\n",
       "                    height = entry.contentBoxSize[0].blockSize;\n",
       "                } else {\n",
       "                    // Firefox implements old version of spec.\n",
       "                    width = entry.contentBoxSize.inlineSize;\n",
       "                    height = entry.contentBoxSize.blockSize;\n",
       "                }\n",
       "            } else {\n",
       "                // Chrome <84 implements even older version of spec.\n",
       "                width = entry.contentRect.width;\n",
       "                height = entry.contentRect.height;\n",
       "            }\n",
       "\n",
       "            // Keep the size of the canvas and rubber band canvas in sync with\n",
       "            // the canvas container.\n",
       "            if (entry.devicePixelContentBoxSize) {\n",
       "                // Chrome 84 implements new version of spec.\n",
       "                canvas.setAttribute(\n",
       "                    'width',\n",
       "                    entry.devicePixelContentBoxSize[0].inlineSize\n",
       "                );\n",
       "                canvas.setAttribute(\n",
       "                    'height',\n",
       "                    entry.devicePixelContentBoxSize[0].blockSize\n",
       "                );\n",
       "            } else {\n",
       "                canvas.setAttribute('width', width * fig.ratio);\n",
       "                canvas.setAttribute('height', height * fig.ratio);\n",
       "            }\n",
       "            canvas.setAttribute(\n",
       "                'style',\n",
       "                'width: ' + width + 'px; height: ' + height + 'px;'\n",
       "            );\n",
       "\n",
       "            rubberband_canvas.setAttribute('width', width);\n",
       "            rubberband_canvas.setAttribute('height', height);\n",
       "\n",
       "            // And update the size in Python. We ignore the initial 0/0 size\n",
       "            // that occurs as the element is placed into the DOM, which should\n",
       "            // otherwise not happen due to the minimum size styling.\n",
       "            if (fig.ws.readyState == 1 && width != 0 && height != 0) {\n",
       "                fig.request_resize(width, height);\n",
       "            }\n",
       "        }\n",
       "    });\n",
       "    this.resizeObserverInstance.observe(canvas_div);\n",
       "\n",
       "    function on_mouse_event_closure(name) {\n",
       "        return function (event) {\n",
       "            return fig.mouse_event(event, name);\n",
       "        };\n",
       "    }\n",
       "\n",
       "    rubberband_canvas.addEventListener(\n",
       "        'mousedown',\n",
       "        on_mouse_event_closure('button_press')\n",
       "    );\n",
       "    rubberband_canvas.addEventListener(\n",
       "        'mouseup',\n",
       "        on_mouse_event_closure('button_release')\n",
       "    );\n",
       "    rubberband_canvas.addEventListener(\n",
       "        'dblclick',\n",
       "        on_mouse_event_closure('dblclick')\n",
       "    );\n",
       "    // Throttle sequential mouse events to 1 every 20ms.\n",
       "    rubberband_canvas.addEventListener(\n",
       "        'mousemove',\n",
       "        on_mouse_event_closure('motion_notify')\n",
       "    );\n",
       "\n",
       "    rubberband_canvas.addEventListener(\n",
       "        'mouseenter',\n",
       "        on_mouse_event_closure('figure_enter')\n",
       "    );\n",
       "    rubberband_canvas.addEventListener(\n",
       "        'mouseleave',\n",
       "        on_mouse_event_closure('figure_leave')\n",
       "    );\n",
       "\n",
       "    canvas_div.addEventListener('wheel', function (event) {\n",
       "        if (event.deltaY < 0) {\n",
       "            event.step = 1;\n",
       "        } else {\n",
       "            event.step = -1;\n",
       "        }\n",
       "        on_mouse_event_closure('scroll')(event);\n",
       "    });\n",
       "\n",
       "    canvas_div.appendChild(canvas);\n",
       "    canvas_div.appendChild(rubberband_canvas);\n",
       "\n",
       "    this.rubberband_context = rubberband_canvas.getContext('2d');\n",
       "    this.rubberband_context.strokeStyle = '#000000';\n",
       "\n",
       "    this._resize_canvas = function (width, height, forward) {\n",
       "        if (forward) {\n",
       "            canvas_div.style.width = width + 'px';\n",
       "            canvas_div.style.height = height + 'px';\n",
       "        }\n",
       "    };\n",
       "\n",
       "    // Disable right mouse context menu.\n",
       "    this.rubberband_canvas.addEventListener('contextmenu', function (_e) {\n",
       "        event.preventDefault();\n",
       "        return false;\n",
       "    });\n",
       "\n",
       "    function set_focus() {\n",
       "        canvas.focus();\n",
       "        canvas_div.focus();\n",
       "    }\n",
       "\n",
       "    window.setTimeout(set_focus, 100);\n",
       "};\n",
       "\n",
       "mpl.figure.prototype._init_toolbar = function () {\n",
       "    var fig = this;\n",
       "\n",
       "    var toolbar = document.createElement('div');\n",
       "    toolbar.classList = 'mpl-toolbar';\n",
       "    this.root.appendChild(toolbar);\n",
       "\n",
       "    function on_click_closure(name) {\n",
       "        return function (_event) {\n",
       "            return fig.toolbar_button_onclick(name);\n",
       "        };\n",
       "    }\n",
       "\n",
       "    function on_mouseover_closure(tooltip) {\n",
       "        return function (event) {\n",
       "            if (!event.currentTarget.disabled) {\n",
       "                return fig.toolbar_button_onmouseover(tooltip);\n",
       "            }\n",
       "        };\n",
       "    }\n",
       "\n",
       "    fig.buttons = {};\n",
       "    var buttonGroup = document.createElement('div');\n",
       "    buttonGroup.classList = 'mpl-button-group';\n",
       "    for (var toolbar_ind in mpl.toolbar_items) {\n",
       "        var name = mpl.toolbar_items[toolbar_ind][0];\n",
       "        var tooltip = mpl.toolbar_items[toolbar_ind][1];\n",
       "        var image = mpl.toolbar_items[toolbar_ind][2];\n",
       "        var method_name = mpl.toolbar_items[toolbar_ind][3];\n",
       "\n",
       "        if (!name) {\n",
       "            /* Instead of a spacer, we start a new button group. */\n",
       "            if (buttonGroup.hasChildNodes()) {\n",
       "                toolbar.appendChild(buttonGroup);\n",
       "            }\n",
       "            buttonGroup = document.createElement('div');\n",
       "            buttonGroup.classList = 'mpl-button-group';\n",
       "            continue;\n",
       "        }\n",
       "\n",
       "        var button = (fig.buttons[name] = document.createElement('button'));\n",
       "        button.classList = 'mpl-widget';\n",
       "        button.setAttribute('role', 'button');\n",
       "        button.setAttribute('aria-disabled', 'false');\n",
       "        button.addEventListener('click', on_click_closure(method_name));\n",
       "        button.addEventListener('mouseover', on_mouseover_closure(tooltip));\n",
       "\n",
       "        var icon_img = document.createElement('img');\n",
       "        icon_img.src = '_images/' + image + '.png';\n",
       "        icon_img.srcset = '_images/' + image + '_large.png 2x';\n",
       "        icon_img.alt = tooltip;\n",
       "        button.appendChild(icon_img);\n",
       "\n",
       "        buttonGroup.appendChild(button);\n",
       "    }\n",
       "\n",
       "    if (buttonGroup.hasChildNodes()) {\n",
       "        toolbar.appendChild(buttonGroup);\n",
       "    }\n",
       "\n",
       "    var fmt_picker = document.createElement('select');\n",
       "    fmt_picker.classList = 'mpl-widget';\n",
       "    toolbar.appendChild(fmt_picker);\n",
       "    this.format_dropdown = fmt_picker;\n",
       "\n",
       "    for (var ind in mpl.extensions) {\n",
       "        var fmt = mpl.extensions[ind];\n",
       "        var option = document.createElement('option');\n",
       "        option.selected = fmt === mpl.default_extension;\n",
       "        option.innerHTML = fmt;\n",
       "        fmt_picker.appendChild(option);\n",
       "    }\n",
       "\n",
       "    var status_bar = document.createElement('span');\n",
       "    status_bar.classList = 'mpl-message';\n",
       "    toolbar.appendChild(status_bar);\n",
       "    this.message = status_bar;\n",
       "};\n",
       "\n",
       "mpl.figure.prototype.request_resize = function (x_pixels, y_pixels) {\n",
       "    // Request matplotlib to resize the figure. Matplotlib will then trigger a resize in the client,\n",
       "    // which will in turn request a refresh of the image.\n",
       "    this.send_message('resize', { width: x_pixels, height: y_pixels });\n",
       "};\n",
       "\n",
       "mpl.figure.prototype.send_message = function (type, properties) {\n",
       "    properties['type'] = type;\n",
       "    properties['figure_id'] = this.id;\n",
       "    this.ws.send(JSON.stringify(properties));\n",
       "};\n",
       "\n",
       "mpl.figure.prototype.send_draw_message = function () {\n",
       "    if (!this.waiting) {\n",
       "        this.waiting = true;\n",
       "        this.ws.send(JSON.stringify({ type: 'draw', figure_id: this.id }));\n",
       "    }\n",
       "};\n",
       "\n",
       "mpl.figure.prototype.handle_save = function (fig, _msg) {\n",
       "    var format_dropdown = fig.format_dropdown;\n",
       "    var format = format_dropdown.options[format_dropdown.selectedIndex].value;\n",
       "    fig.ondownload(fig, format);\n",
       "};\n",
       "\n",
       "mpl.figure.prototype.handle_resize = function (fig, msg) {\n",
       "    var size = msg['size'];\n",
       "    if (size[0] !== fig.canvas.width || size[1] !== fig.canvas.height) {\n",
       "        fig._resize_canvas(size[0], size[1], msg['forward']);\n",
       "        fig.send_message('refresh', {});\n",
       "    }\n",
       "};\n",
       "\n",
       "mpl.figure.prototype.handle_rubberband = function (fig, msg) {\n",
       "    var x0 = msg['x0'] / fig.ratio;\n",
       "    var y0 = (fig.canvas.height - msg['y0']) / fig.ratio;\n",
       "    var x1 = msg['x1'] / fig.ratio;\n",
       "    var y1 = (fig.canvas.height - msg['y1']) / fig.ratio;\n",
       "    x0 = Math.floor(x0) + 0.5;\n",
       "    y0 = Math.floor(y0) + 0.5;\n",
       "    x1 = Math.floor(x1) + 0.5;\n",
       "    y1 = Math.floor(y1) + 0.5;\n",
       "    var min_x = Math.min(x0, x1);\n",
       "    var min_y = Math.min(y0, y1);\n",
       "    var width = Math.abs(x1 - x0);\n",
       "    var height = Math.abs(y1 - y0);\n",
       "\n",
       "    fig.rubberband_context.clearRect(\n",
       "        0,\n",
       "        0,\n",
       "        fig.canvas.width / fig.ratio,\n",
       "        fig.canvas.height / fig.ratio\n",
       "    );\n",
       "\n",
       "    fig.rubberband_context.strokeRect(min_x, min_y, width, height);\n",
       "};\n",
       "\n",
       "mpl.figure.prototype.handle_figure_label = function (fig, msg) {\n",
       "    // Updates the figure title.\n",
       "    fig.header.textContent = msg['label'];\n",
       "};\n",
       "\n",
       "mpl.figure.prototype.handle_cursor = function (fig, msg) {\n",
       "    fig.rubberband_canvas.style.cursor = msg['cursor'];\n",
       "};\n",
       "\n",
       "mpl.figure.prototype.handle_message = function (fig, msg) {\n",
       "    fig.message.textContent = msg['message'];\n",
       "};\n",
       "\n",
       "mpl.figure.prototype.handle_draw = function (fig, _msg) {\n",
       "    // Request the server to send over a new figure.\n",
       "    fig.send_draw_message();\n",
       "};\n",
       "\n",
       "mpl.figure.prototype.handle_image_mode = function (fig, msg) {\n",
       "    fig.image_mode = msg['mode'];\n",
       "};\n",
       "\n",
       "mpl.figure.prototype.handle_history_buttons = function (fig, msg) {\n",
       "    for (var key in msg) {\n",
       "        if (!(key in fig.buttons)) {\n",
       "            continue;\n",
       "        }\n",
       "        fig.buttons[key].disabled = !msg[key];\n",
       "        fig.buttons[key].setAttribute('aria-disabled', !msg[key]);\n",
       "    }\n",
       "};\n",
       "\n",
       "mpl.figure.prototype.handle_navigate_mode = function (fig, msg) {\n",
       "    if (msg['mode'] === 'PAN') {\n",
       "        fig.buttons['Pan'].classList.add('active');\n",
       "        fig.buttons['Zoom'].classList.remove('active');\n",
       "    } else if (msg['mode'] === 'ZOOM') {\n",
       "        fig.buttons['Pan'].classList.remove('active');\n",
       "        fig.buttons['Zoom'].classList.add('active');\n",
       "    } else {\n",
       "        fig.buttons['Pan'].classList.remove('active');\n",
       "        fig.buttons['Zoom'].classList.remove('active');\n",
       "    }\n",
       "};\n",
       "\n",
       "mpl.figure.prototype.updated_canvas_event = function () {\n",
       "    // Called whenever the canvas gets updated.\n",
       "    this.send_message('ack', {});\n",
       "};\n",
       "\n",
       "// A function to construct a web socket function for onmessage handling.\n",
       "// Called in the figure constructor.\n",
       "mpl.figure.prototype._make_on_message_function = function (fig) {\n",
       "    return function socket_on_message(evt) {\n",
       "        if (evt.data instanceof Blob) {\n",
       "            var img = evt.data;\n",
       "            if (img.type !== 'image/png') {\n",
       "                /* FIXME: We get \"Resource interpreted as Image but\n",
       "                 * transferred with MIME type text/plain:\" errors on\n",
       "                 * Chrome.  But how to set the MIME type?  It doesn't seem\n",
       "                 * to be part of the websocket stream */\n",
       "                img.type = 'image/png';\n",
       "            }\n",
       "\n",
       "            /* Free the memory for the previous frames */\n",
       "            if (fig.imageObj.src) {\n",
       "                (window.URL || window.webkitURL).revokeObjectURL(\n",
       "                    fig.imageObj.src\n",
       "                );\n",
       "            }\n",
       "\n",
       "            fig.imageObj.src = (window.URL || window.webkitURL).createObjectURL(\n",
       "                img\n",
       "            );\n",
       "            fig.updated_canvas_event();\n",
       "            fig.waiting = false;\n",
       "            return;\n",
       "        } else if (\n",
       "            typeof evt.data === 'string' &&\n",
       "            evt.data.slice(0, 21) === 'data:image/png;base64'\n",
       "        ) {\n",
       "            fig.imageObj.src = evt.data;\n",
       "            fig.updated_canvas_event();\n",
       "            fig.waiting = false;\n",
       "            return;\n",
       "        }\n",
       "\n",
       "        var msg = JSON.parse(evt.data);\n",
       "        var msg_type = msg['type'];\n",
       "\n",
       "        // Call the  \"handle_{type}\" callback, which takes\n",
       "        // the figure and JSON message as its only arguments.\n",
       "        try {\n",
       "            var callback = fig['handle_' + msg_type];\n",
       "        } catch (e) {\n",
       "            console.log(\n",
       "                \"No handler for the '\" + msg_type + \"' message type: \",\n",
       "                msg\n",
       "            );\n",
       "            return;\n",
       "        }\n",
       "\n",
       "        if (callback) {\n",
       "            try {\n",
       "                // console.log(\"Handling '\" + msg_type + \"' message: \", msg);\n",
       "                callback(fig, msg);\n",
       "            } catch (e) {\n",
       "                console.log(\n",
       "                    \"Exception inside the 'handler_\" + msg_type + \"' callback:\",\n",
       "                    e,\n",
       "                    e.stack,\n",
       "                    msg\n",
       "                );\n",
       "            }\n",
       "        }\n",
       "    };\n",
       "};\n",
       "\n",
       "// from https://stackoverflow.com/questions/1114465/getting-mouse-location-in-canvas\n",
       "mpl.findpos = function (e) {\n",
       "    //this section is from http://www.quirksmode.org/js/events_properties.html\n",
       "    var targ;\n",
       "    if (!e) {\n",
       "        e = window.event;\n",
       "    }\n",
       "    if (e.target) {\n",
       "        targ = e.target;\n",
       "    } else if (e.srcElement) {\n",
       "        targ = e.srcElement;\n",
       "    }\n",
       "    if (targ.nodeType === 3) {\n",
       "        // defeat Safari bug\n",
       "        targ = targ.parentNode;\n",
       "    }\n",
       "\n",
       "    // pageX,Y are the mouse positions relative to the document\n",
       "    var boundingRect = targ.getBoundingClientRect();\n",
       "    var x = e.pageX - (boundingRect.left + document.body.scrollLeft);\n",
       "    var y = e.pageY - (boundingRect.top + document.body.scrollTop);\n",
       "\n",
       "    return { x: x, y: y };\n",
       "};\n",
       "\n",
       "/*\n",
       " * return a copy of an object with only non-object keys\n",
       " * we need this to avoid circular references\n",
       " * https://stackoverflow.com/a/24161582/3208463\n",
       " */\n",
       "function simpleKeys(original) {\n",
       "    return Object.keys(original).reduce(function (obj, key) {\n",
       "        if (typeof original[key] !== 'object') {\n",
       "            obj[key] = original[key];\n",
       "        }\n",
       "        return obj;\n",
       "    }, {});\n",
       "}\n",
       "\n",
       "mpl.figure.prototype.mouse_event = function (event, name) {\n",
       "    var canvas_pos = mpl.findpos(event);\n",
       "\n",
       "    if (name === 'button_press') {\n",
       "        this.canvas.focus();\n",
       "        this.canvas_div.focus();\n",
       "    }\n",
       "\n",
       "    var x = canvas_pos.x * this.ratio;\n",
       "    var y = canvas_pos.y * this.ratio;\n",
       "\n",
       "    this.send_message(name, {\n",
       "        x: x,\n",
       "        y: y,\n",
       "        button: event.button,\n",
       "        step: event.step,\n",
       "        guiEvent: simpleKeys(event),\n",
       "    });\n",
       "\n",
       "    /* This prevents the web browser from automatically changing to\n",
       "     * the text insertion cursor when the button is pressed.  We want\n",
       "     * to control all of the cursor setting manually through the\n",
       "     * 'cursor' event from matplotlib */\n",
       "    event.preventDefault();\n",
       "    return false;\n",
       "};\n",
       "\n",
       "mpl.figure.prototype._key_event_extra = function (_event, _name) {\n",
       "    // Handle any extra behaviour associated with a key event\n",
       "};\n",
       "\n",
       "mpl.figure.prototype.key_event = function (event, name) {\n",
       "    // Prevent repeat events\n",
       "    if (name === 'key_press') {\n",
       "        if (event.key === this._key) {\n",
       "            return;\n",
       "        } else {\n",
       "            this._key = event.key;\n",
       "        }\n",
       "    }\n",
       "    if (name === 'key_release') {\n",
       "        this._key = null;\n",
       "    }\n",
       "\n",
       "    var value = '';\n",
       "    if (event.ctrlKey && event.key !== 'Control') {\n",
       "        value += 'ctrl+';\n",
       "    }\n",
       "    else if (event.altKey && event.key !== 'Alt') {\n",
       "        value += 'alt+';\n",
       "    }\n",
       "    else if (event.shiftKey && event.key !== 'Shift') {\n",
       "        value += 'shift+';\n",
       "    }\n",
       "\n",
       "    value += 'k' + event.key;\n",
       "\n",
       "    this._key_event_extra(event, name);\n",
       "\n",
       "    this.send_message(name, { key: value, guiEvent: simpleKeys(event) });\n",
       "    return false;\n",
       "};\n",
       "\n",
       "mpl.figure.prototype.toolbar_button_onclick = function (name) {\n",
       "    if (name === 'download') {\n",
       "        this.handle_save(this, null);\n",
       "    } else {\n",
       "        this.send_message('toolbar_button', { name: name });\n",
       "    }\n",
       "};\n",
       "\n",
       "mpl.figure.prototype.toolbar_button_onmouseover = function (tooltip) {\n",
       "    this.message.textContent = tooltip;\n",
       "};\n",
       "\n",
       "///////////////// REMAINING CONTENT GENERATED BY embed_js.py /////////////////\n",
       "// prettier-ignore\n",
       "var _JSXTOOLS_RESIZE_OBSERVER=function(A){var t,i=new WeakMap,n=new WeakMap,a=new WeakMap,r=new WeakMap,o=new Set;function s(e){if(!(this instanceof s))throw new TypeError(\"Constructor requires 'new' operator\");i.set(this,e)}function h(){throw new TypeError(\"Function is not a constructor\")}function c(e,t,i,n){e=0 in arguments?Number(arguments[0]):0,t=1 in arguments?Number(arguments[1]):0,i=2 in arguments?Number(arguments[2]):0,n=3 in arguments?Number(arguments[3]):0,this.right=(this.x=this.left=e)+(this.width=i),this.bottom=(this.y=this.top=t)+(this.height=n),Object.freeze(this)}function d(){t=requestAnimationFrame(d);var s=new WeakMap,p=new Set;o.forEach((function(t){r.get(t).forEach((function(i){var r=t instanceof window.SVGElement,o=a.get(t),d=r?0:parseFloat(o.paddingTop),f=r?0:parseFloat(o.paddingRight),l=r?0:parseFloat(o.paddingBottom),u=r?0:parseFloat(o.paddingLeft),g=r?0:parseFloat(o.borderTopWidth),m=r?0:parseFloat(o.borderRightWidth),w=r?0:parseFloat(o.borderBottomWidth),b=u+f,F=d+l,v=(r?0:parseFloat(o.borderLeftWidth))+m,W=g+w,y=r?0:t.offsetHeight-W-t.clientHeight,E=r?0:t.offsetWidth-v-t.clientWidth,R=b+v,z=F+W,M=r?t.width:parseFloat(o.width)-R-E,O=r?t.height:parseFloat(o.height)-z-y;if(n.has(t)){var k=n.get(t);if(k[0]===M&&k[1]===O)return}n.set(t,[M,O]);var S=Object.create(h.prototype);S.target=t,S.contentRect=new c(u,d,M,O),s.has(i)||(s.set(i,[]),p.add(i)),s.get(i).push(S)}))})),p.forEach((function(e){i.get(e).call(e,s.get(e),e)}))}return s.prototype.observe=function(i){if(i instanceof window.Element){r.has(i)||(r.set(i,new Set),o.add(i),a.set(i,window.getComputedStyle(i)));var n=r.get(i);n.has(this)||n.add(this),cancelAnimationFrame(t),t=requestAnimationFrame(d)}},s.prototype.unobserve=function(i){if(i instanceof window.Element&&r.has(i)){var n=r.get(i);n.has(this)&&(n.delete(this),n.size||(r.delete(i),o.delete(i))),n.size||r.delete(i),o.size||cancelAnimationFrame(t)}},A.DOMRectReadOnly=c,A.ResizeObserver=s,A.ResizeObserverEntry=h,A}; // eslint-disable-line\n",
       "mpl.toolbar_items = [[\"Home\", \"Reset original view\", \"fa fa-home icon-home\", \"home\"], [\"Back\", \"Back to previous view\", \"fa fa-arrow-left icon-arrow-left\", \"back\"], [\"Forward\", \"Forward to next view\", \"fa fa-arrow-right icon-arrow-right\", \"forward\"], [\"\", \"\", \"\", \"\"], [\"Pan\", \"Left button pans, Right button zooms\\nx/y fixes axis, CTRL fixes aspect\", \"fa fa-arrows icon-move\", \"pan\"], [\"Zoom\", \"Zoom to rectangle\\nx/y fixes axis\", \"fa fa-square-o icon-check-empty\", \"zoom\"], [\"\", \"\", \"\", \"\"], [\"Download\", \"Download plot\", \"fa fa-floppy-o icon-save\", \"download\"]];\n",
       "\n",
       "mpl.extensions = [\"eps\", \"jpeg\", \"pgf\", \"pdf\", \"png\", \"ps\", \"raw\", \"svg\", \"tif\"];\n",
       "\n",
       "mpl.default_extension = \"png\";/* global mpl */\n",
       "\n",
       "var comm_websocket_adapter = function (comm) {\n",
       "    // Create a \"websocket\"-like object which calls the given IPython comm\n",
       "    // object with the appropriate methods. Currently this is a non binary\n",
       "    // socket, so there is still some room for performance tuning.\n",
       "    var ws = {};\n",
       "\n",
       "    ws.binaryType = comm.kernel.ws.binaryType;\n",
       "    ws.readyState = comm.kernel.ws.readyState;\n",
       "    function updateReadyState(_event) {\n",
       "        if (comm.kernel.ws) {\n",
       "            ws.readyState = comm.kernel.ws.readyState;\n",
       "        } else {\n",
       "            ws.readyState = 3; // Closed state.\n",
       "        }\n",
       "    }\n",
       "    comm.kernel.ws.addEventListener('open', updateReadyState);\n",
       "    comm.kernel.ws.addEventListener('close', updateReadyState);\n",
       "    comm.kernel.ws.addEventListener('error', updateReadyState);\n",
       "\n",
       "    ws.close = function () {\n",
       "        comm.close();\n",
       "    };\n",
       "    ws.send = function (m) {\n",
       "        //console.log('sending', m);\n",
       "        comm.send(m);\n",
       "    };\n",
       "    // Register the callback with on_msg.\n",
       "    comm.on_msg(function (msg) {\n",
       "        //console.log('receiving', msg['content']['data'], msg);\n",
       "        var data = msg['content']['data'];\n",
       "        if (data['blob'] !== undefined) {\n",
       "            data = {\n",
       "                data: new Blob(msg['buffers'], { type: data['blob'] }),\n",
       "            };\n",
       "        }\n",
       "        // Pass the mpl event to the overridden (by mpl) onmessage function.\n",
       "        ws.onmessage(data);\n",
       "    });\n",
       "    return ws;\n",
       "};\n",
       "\n",
       "mpl.mpl_figure_comm = function (comm, msg) {\n",
       "    // This is the function which gets called when the mpl process\n",
       "    // starts-up an IPython Comm through the \"matplotlib\" channel.\n",
       "\n",
       "    var id = msg.content.data.id;\n",
       "    // Get hold of the div created by the display call when the Comm\n",
       "    // socket was opened in Python.\n",
       "    var element = document.getElementById(id);\n",
       "    var ws_proxy = comm_websocket_adapter(comm);\n",
       "\n",
       "    function ondownload(figure, _format) {\n",
       "        window.open(figure.canvas.toDataURL());\n",
       "    }\n",
       "\n",
       "    var fig = new mpl.figure(id, ws_proxy, ondownload, element);\n",
       "\n",
       "    // Call onopen now - mpl needs it, as it is assuming we've passed it a real\n",
       "    // web socket which is closed, not our websocket->open comm proxy.\n",
       "    ws_proxy.onopen();\n",
       "\n",
       "    fig.parent_element = element;\n",
       "    fig.cell_info = mpl.find_output_cell(\"<div id='\" + id + \"'></div>\");\n",
       "    if (!fig.cell_info) {\n",
       "        console.error('Failed to find cell for figure', id, fig);\n",
       "        return;\n",
       "    }\n",
       "    fig.cell_info[0].output_area.element.on(\n",
       "        'cleared',\n",
       "        { fig: fig },\n",
       "        fig._remove_fig_handler\n",
       "    );\n",
       "};\n",
       "\n",
       "mpl.figure.prototype.handle_close = function (fig, msg) {\n",
       "    var width = fig.canvas.width / fig.ratio;\n",
       "    fig.cell_info[0].output_area.element.off(\n",
       "        'cleared',\n",
       "        fig._remove_fig_handler\n",
       "    );\n",
       "    fig.resizeObserverInstance.unobserve(fig.canvas_div);\n",
       "\n",
       "    // Update the output cell to use the data from the current canvas.\n",
       "    fig.push_to_output();\n",
       "    var dataURL = fig.canvas.toDataURL();\n",
       "    // Re-enable the keyboard manager in IPython - without this line, in FF,\n",
       "    // the notebook keyboard shortcuts fail.\n",
       "    IPython.keyboard_manager.enable();\n",
       "    fig.parent_element.innerHTML =\n",
       "        '<img src=\"' + dataURL + '\" width=\"' + width + '\">';\n",
       "    fig.close_ws(fig, msg);\n",
       "};\n",
       "\n",
       "mpl.figure.prototype.close_ws = function (fig, msg) {\n",
       "    fig.send_message('closing', msg);\n",
       "    // fig.ws.close()\n",
       "};\n",
       "\n",
       "mpl.figure.prototype.push_to_output = function (_remove_interactive) {\n",
       "    // Turn the data on the canvas into data in the output cell.\n",
       "    var width = this.canvas.width / this.ratio;\n",
       "    var dataURL = this.canvas.toDataURL();\n",
       "    this.cell_info[1]['text/html'] =\n",
       "        '<img src=\"' + dataURL + '\" width=\"' + width + '\">';\n",
       "};\n",
       "\n",
       "mpl.figure.prototype.updated_canvas_event = function () {\n",
       "    // Tell IPython that the notebook contents must change.\n",
       "    IPython.notebook.set_dirty(true);\n",
       "    this.send_message('ack', {});\n",
       "    var fig = this;\n",
       "    // Wait a second, then push the new image to the DOM so\n",
       "    // that it is saved nicely (might be nice to debounce this).\n",
       "    setTimeout(function () {\n",
       "        fig.push_to_output();\n",
       "    }, 1000);\n",
       "};\n",
       "\n",
       "mpl.figure.prototype._init_toolbar = function () {\n",
       "    var fig = this;\n",
       "\n",
       "    var toolbar = document.createElement('div');\n",
       "    toolbar.classList = 'btn-toolbar';\n",
       "    this.root.appendChild(toolbar);\n",
       "\n",
       "    function on_click_closure(name) {\n",
       "        return function (_event) {\n",
       "            return fig.toolbar_button_onclick(name);\n",
       "        };\n",
       "    }\n",
       "\n",
       "    function on_mouseover_closure(tooltip) {\n",
       "        return function (event) {\n",
       "            if (!event.currentTarget.disabled) {\n",
       "                return fig.toolbar_button_onmouseover(tooltip);\n",
       "            }\n",
       "        };\n",
       "    }\n",
       "\n",
       "    fig.buttons = {};\n",
       "    var buttonGroup = document.createElement('div');\n",
       "    buttonGroup.classList = 'btn-group';\n",
       "    var button;\n",
       "    for (var toolbar_ind in mpl.toolbar_items) {\n",
       "        var name = mpl.toolbar_items[toolbar_ind][0];\n",
       "        var tooltip = mpl.toolbar_items[toolbar_ind][1];\n",
       "        var image = mpl.toolbar_items[toolbar_ind][2];\n",
       "        var method_name = mpl.toolbar_items[toolbar_ind][3];\n",
       "\n",
       "        if (!name) {\n",
       "            /* Instead of a spacer, we start a new button group. */\n",
       "            if (buttonGroup.hasChildNodes()) {\n",
       "                toolbar.appendChild(buttonGroup);\n",
       "            }\n",
       "            buttonGroup = document.createElement('div');\n",
       "            buttonGroup.classList = 'btn-group';\n",
       "            continue;\n",
       "        }\n",
       "\n",
       "        button = fig.buttons[name] = document.createElement('button');\n",
       "        button.classList = 'btn btn-default';\n",
       "        button.href = '#';\n",
       "        button.title = name;\n",
       "        button.innerHTML = '<i class=\"fa ' + image + ' fa-lg\"></i>';\n",
       "        button.addEventListener('click', on_click_closure(method_name));\n",
       "        button.addEventListener('mouseover', on_mouseover_closure(tooltip));\n",
       "        buttonGroup.appendChild(button);\n",
       "    }\n",
       "\n",
       "    if (buttonGroup.hasChildNodes()) {\n",
       "        toolbar.appendChild(buttonGroup);\n",
       "    }\n",
       "\n",
       "    // Add the status bar.\n",
       "    var status_bar = document.createElement('span');\n",
       "    status_bar.classList = 'mpl-message pull-right';\n",
       "    toolbar.appendChild(status_bar);\n",
       "    this.message = status_bar;\n",
       "\n",
       "    // Add the close button to the window.\n",
       "    var buttongrp = document.createElement('div');\n",
       "    buttongrp.classList = 'btn-group inline pull-right';\n",
       "    button = document.createElement('button');\n",
       "    button.classList = 'btn btn-mini btn-primary';\n",
       "    button.href = '#';\n",
       "    button.title = 'Stop Interaction';\n",
       "    button.innerHTML = '<i class=\"fa fa-power-off icon-remove icon-large\"></i>';\n",
       "    button.addEventListener('click', function (_evt) {\n",
       "        fig.handle_close(fig, {});\n",
       "    });\n",
       "    button.addEventListener(\n",
       "        'mouseover',\n",
       "        on_mouseover_closure('Stop Interaction')\n",
       "    );\n",
       "    buttongrp.appendChild(button);\n",
       "    var titlebar = this.root.querySelector('.ui-dialog-titlebar');\n",
       "    titlebar.insertBefore(buttongrp, titlebar.firstChild);\n",
       "};\n",
       "\n",
       "mpl.figure.prototype._remove_fig_handler = function (event) {\n",
       "    var fig = event.data.fig;\n",
       "    if (event.target !== this) {\n",
       "        // Ignore bubbled events from children.\n",
       "        return;\n",
       "    }\n",
       "    fig.close_ws(fig, {});\n",
       "};\n",
       "\n",
       "mpl.figure.prototype._root_extra_style = function (el) {\n",
       "    el.style.boxSizing = 'content-box'; // override notebook setting of border-box.\n",
       "};\n",
       "\n",
       "mpl.figure.prototype._canvas_extra_style = function (el) {\n",
       "    // this is important to make the div 'focusable\n",
       "    el.setAttribute('tabindex', 0);\n",
       "    // reach out to IPython and tell the keyboard manager to turn it's self\n",
       "    // off when our div gets focus\n",
       "\n",
       "    // location in version 3\n",
       "    if (IPython.notebook.keyboard_manager) {\n",
       "        IPython.notebook.keyboard_manager.register_events(el);\n",
       "    } else {\n",
       "        // location in version 2\n",
       "        IPython.keyboard_manager.register_events(el);\n",
       "    }\n",
       "};\n",
       "\n",
       "mpl.figure.prototype._key_event_extra = function (event, _name) {\n",
       "    // Check for shift+enter\n",
       "    if (event.shiftKey && event.which === 13) {\n",
       "        this.canvas_div.blur();\n",
       "        // select the cell after this one\n",
       "        var index = IPython.notebook.find_cell_index(this.cell_info[0]);\n",
       "        IPython.notebook.select(index + 1);\n",
       "    }\n",
       "};\n",
       "\n",
       "mpl.figure.prototype.handle_save = function (fig, _msg) {\n",
       "    fig.ondownload(fig, null);\n",
       "};\n",
       "\n",
       "mpl.find_output_cell = function (html_output) {\n",
       "    // Return the cell and output element which can be found *uniquely* in the notebook.\n",
       "    // Note - this is a bit hacky, but it is done because the \"notebook_saving.Notebook\"\n",
       "    // IPython event is triggered only after the cells have been serialised, which for\n",
       "    // our purposes (turning an active figure into a static one), is too late.\n",
       "    var cells = IPython.notebook.get_cells();\n",
       "    var ncells = cells.length;\n",
       "    for (var i = 0; i < ncells; i++) {\n",
       "        var cell = cells[i];\n",
       "        if (cell.cell_type === 'code') {\n",
       "            for (var j = 0; j < cell.output_area.outputs.length; j++) {\n",
       "                var data = cell.output_area.outputs[j];\n",
       "                if (data.data) {\n",
       "                    // IPython >= 3 moved mimebundle to data attribute of output\n",
       "                    data = data.data;\n",
       "                }\n",
       "                if (data['text/html'] === html_output) {\n",
       "                    return [cell, data, j];\n",
       "                }\n",
       "            }\n",
       "        }\n",
       "    }\n",
       "};\n",
       "\n",
       "// Register the function which deals with the matplotlib target/channel.\n",
       "// The kernel may be null if the page has been refreshed.\n",
       "if (IPython.notebook.kernel !== null) {\n",
       "    IPython.notebook.kernel.comm_manager.register_target(\n",
       "        'matplotlib',\n",
       "        mpl.mpl_figure_comm\n",
       "    );\n",
       "}\n"
      ],
      "text/plain": [
       "<IPython.core.display.Javascript object>"
      ]
     },
     "metadata": {},
     "output_type": "display_data"
    },
    {
     "data": {
      "text/html": [
       "<img src=\"data:image/png;base64,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\" width=\"640\">"
      ],
      "text/plain": [
       "<IPython.core.display.HTML object>"
      ]
     },
     "metadata": {},
     "output_type": "display_data"
    },
    {
     "data": {
      "text/plain": [
       "(array([7.0000e+00, 6.0000e+00, 2.0000e+01, 6.5000e+01, 9.4000e+01,\n",
       "        1.4200e+02, 2.9400e+02, 5.2600e+02, 1.2510e+03, 1.8450e+03,\n",
       "        2.5780e+03, 4.0870e+03, 6.1890e+03, 9.6500e+03, 1.3745e+04,\n",
       "        1.8366e+04, 2.0310e+04, 2.0773e+04, 1.9382e+04, 1.8784e+04,\n",
       "        1.5915e+04, 1.1254e+04, 7.5250e+03, 4.9470e+03, 2.8290e+03,\n",
       "        1.4590e+03, 7.4800e+02, 2.2800e+02, 8.4000e+01, 3.9000e+01]),\n",
       " array([33.        , 35.03333333, 37.06666667, 39.1       , 41.13333333,\n",
       "        43.16666667, 45.2       , 47.23333333, 49.26666667, 51.3       ,\n",
       "        53.33333333, 55.36666667, 57.4       , 59.43333333, 61.46666667,\n",
       "        63.5       , 65.53333333, 67.56666667, 69.6       , 71.63333333,\n",
       "        73.66666667, 75.7       , 77.73333333, 79.76666667, 81.8       ,\n",
       "        83.83333333, 85.86666667, 87.9       , 89.93333333, 91.96666667,\n",
       "        94.        ]),\n",
       " <BarContainer object of 30 artists>)"
      ]
     },
     "execution_count": 45,
     "metadata": {},
     "output_type": "execute_result"
    }
   ],
   "source": [
    "plt.hist(target, 30, range=(33, 94))"
   ]
  },
  {
   "cell_type": "markdown",
   "metadata": {},
   "source": [
    "Data Exploration :"
   ]
  },
  {
   "cell_type": "code",
   "execution_count": 46,
   "metadata": {},
   "outputs": [
    {
     "data": {
      "text/plain": [
       "Index(['id', 'player_fifa_api_id', 'player_api_id', 'date', 'potential',\n",
       "       'preferred_foot', 'attacking_work_rate', 'defensive_work_rate',\n",
       "       'crossing', 'finishing', 'heading_accuracy', 'short_passing', 'volleys',\n",
       "       'dribbling', 'curve', 'free_kick_accuracy', 'long_passing',\n",
       "       'ball_control', 'acceleration', 'sprint_speed', 'agility', 'reactions',\n",
       "       'balance', 'shot_power', 'jumping', 'stamina', 'strength', 'long_shots',\n",
       "       'aggression', 'interceptions', 'positioning', 'vision', 'penalties',\n",
       "       'marking', 'standing_tackle', 'sliding_tackle', 'gk_diving',\n",
       "       'gk_handling', 'gk_kicking', 'gk_positioning', 'gk_reflexes'],\n",
       "      dtype='object')"
      ]
     },
     "execution_count": 46,
     "metadata": {},
     "output_type": "execute_result"
    }
   ],
   "source": [
    "df.columns"
   ]
  },
  {
   "cell_type": "code",
   "execution_count": 47,
   "metadata": {
    "scrolled": true
   },
   "outputs": [
    {
     "name": "stdout",
     "output_type": "stream",
     "text": [
      "<class 'pandas.core.frame.DataFrame'>\n",
      "RangeIndex: 183978 entries, 0 to 183977\n",
      "Data columns (total 41 columns):\n",
      " #   Column               Non-Null Count   Dtype  \n",
      "---  ------               --------------   -----  \n",
      " 0   id                   183978 non-null  int64  \n",
      " 1   player_fifa_api_id   183978 non-null  int64  \n",
      " 2   player_api_id        183978 non-null  int64  \n",
      " 3   date                 183978 non-null  object \n",
      " 4   potential            183142 non-null  float64\n",
      " 5   preferred_foot       183142 non-null  object \n",
      " 6   attacking_work_rate  180748 non-null  object \n",
      " 7   defensive_work_rate  183142 non-null  object \n",
      " 8   crossing             183142 non-null  float64\n",
      " 9   finishing            183142 non-null  float64\n",
      " 10  heading_accuracy     183142 non-null  float64\n",
      " 11  short_passing        183142 non-null  float64\n",
      " 12  volleys              181265 non-null  float64\n",
      " 13  dribbling            183142 non-null  float64\n",
      " 14  curve                181265 non-null  float64\n",
      " 15  free_kick_accuracy   183142 non-null  float64\n",
      " 16  long_passing         183142 non-null  float64\n",
      " 17  ball_control         183142 non-null  float64\n",
      " 18  acceleration         183142 non-null  float64\n",
      " 19  sprint_speed         183142 non-null  float64\n",
      " 20  agility              181265 non-null  float64\n",
      " 21  reactions            183142 non-null  float64\n",
      " 22  balance              181265 non-null  float64\n",
      " 23  shot_power           183142 non-null  float64\n",
      " 24  jumping              181265 non-null  float64\n",
      " 25  stamina              183142 non-null  float64\n",
      " 26  strength             183142 non-null  float64\n",
      " 27  long_shots           183142 non-null  float64\n",
      " 28  aggression           183142 non-null  float64\n",
      " 29  interceptions        183142 non-null  float64\n",
      " 30  positioning          183142 non-null  float64\n",
      " 31  vision               181265 non-null  float64\n",
      " 32  penalties            183142 non-null  float64\n",
      " 33  marking              183142 non-null  float64\n",
      " 34  standing_tackle      183142 non-null  float64\n",
      " 35  sliding_tackle       181265 non-null  float64\n",
      " 36  gk_diving            183142 non-null  float64\n",
      " 37  gk_handling          183142 non-null  float64\n",
      " 38  gk_kicking           183142 non-null  float64\n",
      " 39  gk_positioning       183142 non-null  float64\n",
      " 40  gk_reflexes          183142 non-null  float64\n",
      "dtypes: float64(34), int64(3), object(4)\n",
      "memory usage: 57.5+ MB\n"
     ]
    }
   ],
   "source": [
    "df.info()"
   ]
  },
  {
   "cell_type": "code",
   "execution_count": 48,
   "metadata": {},
   "outputs": [],
   "source": [
    "X = df.copy()"
   ]
  },
  {
   "cell_type": "code",
   "execution_count": 49,
   "metadata": {
    "scrolled": false
   },
   "outputs": [
    {
     "data": {
      "text/html": [
       "<div>\n",
       "<style scoped>\n",
       "    .dataframe tbody tr th:only-of-type {\n",
       "        vertical-align: middle;\n",
       "    }\n",
       "\n",
       "    .dataframe tbody tr th {\n",
       "        vertical-align: top;\n",
       "    }\n",
       "\n",
       "    .dataframe thead th {\n",
       "        text-align: right;\n",
       "    }\n",
       "</style>\n",
       "<table border=\"1\" class=\"dataframe\">\n",
       "  <thead>\n",
       "    <tr style=\"text-align: right;\">\n",
       "      <th></th>\n",
       "      <th>id</th>\n",
       "      <th>player_fifa_api_id</th>\n",
       "      <th>player_api_id</th>\n",
       "      <th>date</th>\n",
       "      <th>potential</th>\n",
       "      <th>preferred_foot</th>\n",
       "      <th>attacking_work_rate</th>\n",
       "      <th>defensive_work_rate</th>\n",
       "      <th>crossing</th>\n",
       "      <th>finishing</th>\n",
       "      <th>...</th>\n",
       "      <th>vision</th>\n",
       "      <th>penalties</th>\n",
       "      <th>marking</th>\n",
       "      <th>standing_tackle</th>\n",
       "      <th>sliding_tackle</th>\n",
       "      <th>gk_diving</th>\n",
       "      <th>gk_handling</th>\n",
       "      <th>gk_kicking</th>\n",
       "      <th>gk_positioning</th>\n",
       "      <th>gk_reflexes</th>\n",
       "    </tr>\n",
       "  </thead>\n",
       "  <tbody>\n",
       "    <tr>\n",
       "      <th>0</th>\n",
       "      <td>1</td>\n",
       "      <td>218353</td>\n",
       "      <td>505942</td>\n",
       "      <td>2016-02-18 00:00:00</td>\n",
       "      <td>71.0</td>\n",
       "      <td>right</td>\n",
       "      <td>medium</td>\n",
       "      <td>medium</td>\n",
       "      <td>49.0</td>\n",
       "      <td>44.0</td>\n",
       "      <td>...</td>\n",
       "      <td>54.0</td>\n",
       "      <td>48.0</td>\n",
       "      <td>65.0</td>\n",
       "      <td>69.0</td>\n",
       "      <td>69.0</td>\n",
       "      <td>6.0</td>\n",
       "      <td>11.0</td>\n",
       "      <td>10.0</td>\n",
       "      <td>8.0</td>\n",
       "      <td>8.0</td>\n",
       "    </tr>\n",
       "    <tr>\n",
       "      <th>1</th>\n",
       "      <td>2</td>\n",
       "      <td>218353</td>\n",
       "      <td>505942</td>\n",
       "      <td>2015-11-19 00:00:00</td>\n",
       "      <td>71.0</td>\n",
       "      <td>right</td>\n",
       "      <td>medium</td>\n",
       "      <td>medium</td>\n",
       "      <td>49.0</td>\n",
       "      <td>44.0</td>\n",
       "      <td>...</td>\n",
       "      <td>54.0</td>\n",
       "      <td>48.0</td>\n",
       "      <td>65.0</td>\n",
       "      <td>69.0</td>\n",
       "      <td>69.0</td>\n",
       "      <td>6.0</td>\n",
       "      <td>11.0</td>\n",
       "      <td>10.0</td>\n",
       "      <td>8.0</td>\n",
       "      <td>8.0</td>\n",
       "    </tr>\n",
       "    <tr>\n",
       "      <th>2</th>\n",
       "      <td>3</td>\n",
       "      <td>218353</td>\n",
       "      <td>505942</td>\n",
       "      <td>2015-09-21 00:00:00</td>\n",
       "      <td>66.0</td>\n",
       "      <td>right</td>\n",
       "      <td>medium</td>\n",
       "      <td>medium</td>\n",
       "      <td>49.0</td>\n",
       "      <td>44.0</td>\n",
       "      <td>...</td>\n",
       "      <td>54.0</td>\n",
       "      <td>48.0</td>\n",
       "      <td>65.0</td>\n",
       "      <td>66.0</td>\n",
       "      <td>69.0</td>\n",
       "      <td>6.0</td>\n",
       "      <td>11.0</td>\n",
       "      <td>10.0</td>\n",
       "      <td>8.0</td>\n",
       "      <td>8.0</td>\n",
       "    </tr>\n",
       "    <tr>\n",
       "      <th>3</th>\n",
       "      <td>4</td>\n",
       "      <td>218353</td>\n",
       "      <td>505942</td>\n",
       "      <td>2015-03-20 00:00:00</td>\n",
       "      <td>65.0</td>\n",
       "      <td>right</td>\n",
       "      <td>medium</td>\n",
       "      <td>medium</td>\n",
       "      <td>48.0</td>\n",
       "      <td>43.0</td>\n",
       "      <td>...</td>\n",
       "      <td>53.0</td>\n",
       "      <td>47.0</td>\n",
       "      <td>62.0</td>\n",
       "      <td>63.0</td>\n",
       "      <td>66.0</td>\n",
       "      <td>5.0</td>\n",
       "      <td>10.0</td>\n",
       "      <td>9.0</td>\n",
       "      <td>7.0</td>\n",
       "      <td>7.0</td>\n",
       "    </tr>\n",
       "    <tr>\n",
       "      <th>4</th>\n",
       "      <td>5</td>\n",
       "      <td>218353</td>\n",
       "      <td>505942</td>\n",
       "      <td>2007-02-22 00:00:00</td>\n",
       "      <td>65.0</td>\n",
       "      <td>right</td>\n",
       "      <td>medium</td>\n",
       "      <td>medium</td>\n",
       "      <td>48.0</td>\n",
       "      <td>43.0</td>\n",
       "      <td>...</td>\n",
       "      <td>53.0</td>\n",
       "      <td>47.0</td>\n",
       "      <td>62.0</td>\n",
       "      <td>63.0</td>\n",
       "      <td>66.0</td>\n",
       "      <td>5.0</td>\n",
       "      <td>10.0</td>\n",
       "      <td>9.0</td>\n",
       "      <td>7.0</td>\n",
       "      <td>7.0</td>\n",
       "    </tr>\n",
       "  </tbody>\n",
       "</table>\n",
       "<p>5 rows × 41 columns</p>\n",
       "</div>"
      ],
      "text/plain": [
       "   id  player_fifa_api_id  player_api_id                 date  potential  \\\n",
       "0   1              218353         505942  2016-02-18 00:00:00       71.0   \n",
       "1   2              218353         505942  2015-11-19 00:00:00       71.0   \n",
       "2   3              218353         505942  2015-09-21 00:00:00       66.0   \n",
       "3   4              218353         505942  2015-03-20 00:00:00       65.0   \n",
       "4   5              218353         505942  2007-02-22 00:00:00       65.0   \n",
       "\n",
       "  preferred_foot attacking_work_rate defensive_work_rate  crossing  finishing  \\\n",
       "0          right              medium              medium      49.0       44.0   \n",
       "1          right              medium              medium      49.0       44.0   \n",
       "2          right              medium              medium      49.0       44.0   \n",
       "3          right              medium              medium      48.0       43.0   \n",
       "4          right              medium              medium      48.0       43.0   \n",
       "\n",
       "   ...  vision  penalties  marking  standing_tackle  sliding_tackle  \\\n",
       "0  ...    54.0       48.0     65.0             69.0            69.0   \n",
       "1  ...    54.0       48.0     65.0             69.0            69.0   \n",
       "2  ...    54.0       48.0     65.0             66.0            69.0   \n",
       "3  ...    53.0       47.0     62.0             63.0            66.0   \n",
       "4  ...    53.0       47.0     62.0             63.0            66.0   \n",
       "\n",
       "   gk_diving  gk_handling  gk_kicking  gk_positioning  gk_reflexes  \n",
       "0        6.0         11.0        10.0             8.0          8.0  \n",
       "1        6.0         11.0        10.0             8.0          8.0  \n",
       "2        6.0         11.0        10.0             8.0          8.0  \n",
       "3        5.0         10.0         9.0             7.0          7.0  \n",
       "4        5.0         10.0         9.0             7.0          7.0  \n",
       "\n",
       "[5 rows x 41 columns]"
      ]
     },
     "execution_count": 49,
     "metadata": {},
     "output_type": "execute_result"
    }
   ],
   "source": [
    "X.head()"
   ]
  },
  {
   "cell_type": "code",
   "execution_count": 50,
   "metadata": {},
   "outputs": [],
   "source": [
    "X = X.drop(['id','date'], axis=1)"
   ]
  },
  {
   "cell_type": "code",
   "execution_count": 51,
   "metadata": {},
   "outputs": [],
   "source": [
    "# Define which columns should be ordinal-encoded and which should be scaled\n",
    "categorical_cols = X.select_dtypes(include='object').columns\n",
    "numerical_cols = X.select_dtypes(exclude='object').columns"
   ]
  },
  {
   "cell_type": "code",
   "execution_count": 52,
   "metadata": {},
   "outputs": [
    {
     "data": {
      "text/plain": [
       "Index(['preferred_foot', 'attacking_work_rate', 'defensive_work_rate'], dtype='object')"
      ]
     },
     "execution_count": 52,
     "metadata": {},
     "output_type": "execute_result"
    }
   ],
   "source": [
    "categorical_cols"
   ]
  },
  {
   "cell_type": "code",
   "execution_count": 53,
   "metadata": {},
   "outputs": [
    {
     "data": {
      "text/plain": [
       "array(['right', 'left', None], dtype=object)"
      ]
     },
     "execution_count": 53,
     "metadata": {},
     "output_type": "execute_result"
    }
   ],
   "source": [
    "X['preferred_foot'].unique()"
   ]
  },
  {
   "cell_type": "code",
   "execution_count": 54,
   "metadata": {},
   "outputs": [
    {
     "data": {
      "text/plain": [
       "array(['medium', 'high', None, 'low', 'None', 'le', 'norm', 'stoc', 'y'],\n",
       "      dtype=object)"
      ]
     },
     "execution_count": 54,
     "metadata": {},
     "output_type": "execute_result"
    }
   ],
   "source": [
    "X['attacking_work_rate'].unique()"
   ]
  },
  {
   "cell_type": "code",
   "execution_count": 56,
   "metadata": {},
   "outputs": [
    {
     "data": {
      "text/plain": [
       "array(['medium', 'high', 'low', '_0', None, '5', 'ean', 'o', '1', 'ormal',\n",
       "       '7', '2', '8', '4', 'tocky', '0', '3', '6', '9', 'es'],\n",
       "      dtype=object)"
      ]
     },
     "execution_count": 56,
     "metadata": {},
     "output_type": "execute_result"
    }
   ],
   "source": [
    "X['defensive_work_rate'].unique()"
   ]
  },
  {
   "cell_type": "code",
   "execution_count": 57,
   "metadata": {},
   "outputs": [],
   "source": [
    "from sklearn.impute import SimpleImputer ## HAndling Missing Values\n",
    "from sklearn.preprocessing import StandardScaler # HAndling Feature Scaling\n",
    "from sklearn.preprocessing import OrdinalEncoder # Ordinal Encoding\n",
    "from sklearn.preprocessing import OneHotEncoder # Ordinal Encoding\n",
    "## pipelines\n",
    "from sklearn.pipeline import Pipeline\n",
    "from sklearn.compose import ColumnTransformer"
   ]
  },
  {
   "cell_type": "code",
   "execution_count": 58,
   "metadata": {},
   "outputs": [],
   "source": [
    "num_pipeline=Pipeline(\n",
    "    steps=[\n",
    "    ('imputer',SimpleImputer(strategy='median')),\n",
    "    ('scaler',StandardScaler())\n",
    "    ]\n",
    ")\n",
    "\n",
    "# Categorigal Pipeline\n",
    "cat_pipeline=Pipeline(\n",
    "    steps=[\n",
    "    ('imputer',SimpleImputer(strategy='most_frequent')),\n",
    "    ('OneHotEncoder',OneHotEncoder()),\n",
    "    ]\n",
    ")\n",
    "\n",
    "preprocessor=ColumnTransformer([\n",
    "('num_pipeline',num_pipeline,numerical_cols),\n",
    "('cat_pipeline',cat_pipeline,categorical_cols)\n",
    "])"
   ]
  },
  {
   "cell_type": "code",
   "execution_count": 59,
   "metadata": {},
   "outputs": [],
   "source": [
    "from sklearn.model_selection import train_test_split\n",
    "\n",
    "X_train,X_test,y_train,y_test=train_test_split(X,y,test_size=0.30,random_state=30)"
   ]
  },
  {
   "cell_type": "code",
   "execution_count": 60,
   "metadata": {},
   "outputs": [],
   "source": [
    "X_train=pd.DataFrame(preprocessor.fit_transform(X_train),columns=preprocessor.get_feature_names_out())\n",
    "X_test=pd.DataFrame(preprocessor.transform(X_test),columns=preprocessor.get_feature_names_out())"
   ]
  },
  {
   "cell_type": "code",
   "execution_count": 61,
   "metadata": {},
   "outputs": [
    {
     "data": {
      "text/plain": [
       "((183978, 39), (128784, 68))"
      ]
     },
     "execution_count": 61,
     "metadata": {},
     "output_type": "execute_result"
    }
   ],
   "source": [
    "X.shape, X_train.shape"
   ]
  },
  {
   "cell_type": "code",
   "execution_count": 62,
   "metadata": {
    "scrolled": true
   },
   "outputs": [
    {
     "data": {
      "text/html": [
       "<div>\n",
       "<style scoped>\n",
       "    .dataframe tbody tr th:only-of-type {\n",
       "        vertical-align: middle;\n",
       "    }\n",
       "\n",
       "    .dataframe tbody tr th {\n",
       "        vertical-align: top;\n",
       "    }\n",
       "\n",
       "    .dataframe thead th {\n",
       "        text-align: right;\n",
       "    }\n",
       "</style>\n",
       "<table border=\"1\" class=\"dataframe\">\n",
       "  <thead>\n",
       "    <tr style=\"text-align: right;\">\n",
       "      <th></th>\n",
       "      <th>num_pipeline__player_fifa_api_id</th>\n",
       "      <th>num_pipeline__player_api_id</th>\n",
       "      <th>num_pipeline__potential</th>\n",
       "      <th>num_pipeline__crossing</th>\n",
       "      <th>num_pipeline__finishing</th>\n",
       "      <th>num_pipeline__heading_accuracy</th>\n",
       "      <th>num_pipeline__short_passing</th>\n",
       "      <th>num_pipeline__volleys</th>\n",
       "      <th>num_pipeline__dribbling</th>\n",
       "      <th>num_pipeline__curve</th>\n",
       "      <th>...</th>\n",
       "      <th>cat_pipeline__defensive_work_rate__0</th>\n",
       "      <th>cat_pipeline__defensive_work_rate_ean</th>\n",
       "      <th>cat_pipeline__defensive_work_rate_es</th>\n",
       "      <th>cat_pipeline__defensive_work_rate_high</th>\n",
       "      <th>cat_pipeline__defensive_work_rate_low</th>\n",
       "      <th>cat_pipeline__defensive_work_rate_medium</th>\n",
       "      <th>cat_pipeline__defensive_work_rate_o</th>\n",
       "      <th>cat_pipeline__defensive_work_rate_ormal</th>\n",
       "      <th>cat_pipeline__defensive_work_rate_tocky</th>\n",
       "      <th>cat_pipeline__defensive_work_rate_None</th>\n",
       "    </tr>\n",
       "  </thead>\n",
       "  <tbody>\n",
       "    <tr>\n",
       "      <th>0</th>\n",
       "      <td>-0.127712</td>\n",
       "      <td>-0.712688</td>\n",
       "      <td>0.996413</td>\n",
       "      <td>0.405135</td>\n",
       "      <td>0.110130</td>\n",
       "      <td>-0.137281</td>\n",
       "      <td>1.668019</td>\n",
       "      <td>0.856072</td>\n",
       "      <td>0.781954</td>\n",
       "      <td>1.271775</td>\n",
       "      <td>...</td>\n",
       "      <td>0.0</td>\n",
       "      <td>0.0</td>\n",
       "      <td>0.0</td>\n",
       "      <td>1.0</td>\n",
       "      <td>0.0</td>\n",
       "      <td>0.0</td>\n",
       "      <td>0.0</td>\n",
       "      <td>0.0</td>\n",
       "      <td>0.0</td>\n",
       "      <td>0.0</td>\n",
       "    </tr>\n",
       "    <tr>\n",
       "      <th>1</th>\n",
       "      <td>0.433998</td>\n",
       "      <td>-0.442604</td>\n",
       "      <td>-0.067809</td>\n",
       "      <td>0.579435</td>\n",
       "      <td>1.214548</td>\n",
       "      <td>0.834330</td>\n",
       "      <td>0.042631</td>\n",
       "      <td>1.297008</td>\n",
       "      <td>0.386703</td>\n",
       "      <td>0.168371</td>\n",
       "      <td>...</td>\n",
       "      <td>0.0</td>\n",
       "      <td>0.0</td>\n",
       "      <td>0.0</td>\n",
       "      <td>0.0</td>\n",
       "      <td>0.0</td>\n",
       "      <td>1.0</td>\n",
       "      <td>0.0</td>\n",
       "      <td>0.0</td>\n",
       "      <td>0.0</td>\n",
       "      <td>0.0</td>\n",
       "    </tr>\n",
       "    <tr>\n",
       "      <th>2</th>\n",
       "      <td>-0.131901</td>\n",
       "      <td>-0.450631</td>\n",
       "      <td>-0.523904</td>\n",
       "      <td>0.579435</td>\n",
       "      <td>-0.310601</td>\n",
       "      <td>0.166348</td>\n",
       "      <td>0.537314</td>\n",
       "      <td>-0.411620</td>\n",
       "      <td>0.047917</td>\n",
       "      <td>0.002861</td>\n",
       "      <td>...</td>\n",
       "      <td>0.0</td>\n",
       "      <td>0.0</td>\n",
       "      <td>0.0</td>\n",
       "      <td>0.0</td>\n",
       "      <td>0.0</td>\n",
       "      <td>1.0</td>\n",
       "      <td>0.0</td>\n",
       "      <td>0.0</td>\n",
       "      <td>0.0</td>\n",
       "      <td>0.0</td>\n",
       "    </tr>\n",
       "    <tr>\n",
       "      <th>3</th>\n",
       "      <td>0.487004</td>\n",
       "      <td>0.798830</td>\n",
       "      <td>0.540318</td>\n",
       "      <td>0.986135</td>\n",
       "      <td>0.478269</td>\n",
       "      <td>0.530701</td>\n",
       "      <td>0.466645</td>\n",
       "      <td>0.360018</td>\n",
       "      <td>0.669025</td>\n",
       "      <td>0.168371</td>\n",
       "      <td>...</td>\n",
       "      <td>0.0</td>\n",
       "      <td>0.0</td>\n",
       "      <td>0.0</td>\n",
       "      <td>1.0</td>\n",
       "      <td>0.0</td>\n",
       "      <td>0.0</td>\n",
       "      <td>0.0</td>\n",
       "      <td>0.0</td>\n",
       "      <td>0.0</td>\n",
       "      <td>0.0</td>\n",
       "    </tr>\n",
       "    <tr>\n",
       "      <th>4</th>\n",
       "      <td>0.466617</td>\n",
       "      <td>0.177963</td>\n",
       "      <td>-0.067809</td>\n",
       "      <td>0.463235</td>\n",
       "      <td>-1.888341</td>\n",
       "      <td>-0.623086</td>\n",
       "      <td>0.042631</td>\n",
       "      <td>-0.797439</td>\n",
       "      <td>-0.347334</td>\n",
       "      <td>-1.100543</td>\n",
       "      <td>...</td>\n",
       "      <td>0.0</td>\n",
       "      <td>0.0</td>\n",
       "      <td>0.0</td>\n",
       "      <td>0.0</td>\n",
       "      <td>0.0</td>\n",
       "      <td>1.0</td>\n",
       "      <td>0.0</td>\n",
       "      <td>0.0</td>\n",
       "      <td>0.0</td>\n",
       "      <td>0.0</td>\n",
       "    </tr>\n",
       "  </tbody>\n",
       "</table>\n",
       "<p>5 rows × 68 columns</p>\n",
       "</div>"
      ],
      "text/plain": [
       "   num_pipeline__player_fifa_api_id  num_pipeline__player_api_id  \\\n",
       "0                         -0.127712                    -0.712688   \n",
       "1                          0.433998                    -0.442604   \n",
       "2                         -0.131901                    -0.450631   \n",
       "3                          0.487004                     0.798830   \n",
       "4                          0.466617                     0.177963   \n",
       "\n",
       "   num_pipeline__potential  num_pipeline__crossing  num_pipeline__finishing  \\\n",
       "0                 0.996413                0.405135                 0.110130   \n",
       "1                -0.067809                0.579435                 1.214548   \n",
       "2                -0.523904                0.579435                -0.310601   \n",
       "3                 0.540318                0.986135                 0.478269   \n",
       "4                -0.067809                0.463235                -1.888341   \n",
       "\n",
       "   num_pipeline__heading_accuracy  num_pipeline__short_passing  \\\n",
       "0                       -0.137281                     1.668019   \n",
       "1                        0.834330                     0.042631   \n",
       "2                        0.166348                     0.537314   \n",
       "3                        0.530701                     0.466645   \n",
       "4                       -0.623086                     0.042631   \n",
       "\n",
       "   num_pipeline__volleys  num_pipeline__dribbling  num_pipeline__curve  ...  \\\n",
       "0               0.856072                 0.781954             1.271775  ...   \n",
       "1               1.297008                 0.386703             0.168371  ...   \n",
       "2              -0.411620                 0.047917             0.002861  ...   \n",
       "3               0.360018                 0.669025             0.168371  ...   \n",
       "4              -0.797439                -0.347334            -1.100543  ...   \n",
       "\n",
       "   cat_pipeline__defensive_work_rate__0  \\\n",
       "0                                   0.0   \n",
       "1                                   0.0   \n",
       "2                                   0.0   \n",
       "3                                   0.0   \n",
       "4                                   0.0   \n",
       "\n",
       "   cat_pipeline__defensive_work_rate_ean  \\\n",
       "0                                    0.0   \n",
       "1                                    0.0   \n",
       "2                                    0.0   \n",
       "3                                    0.0   \n",
       "4                                    0.0   \n",
       "\n",
       "   cat_pipeline__defensive_work_rate_es  \\\n",
       "0                                   0.0   \n",
       "1                                   0.0   \n",
       "2                                   0.0   \n",
       "3                                   0.0   \n",
       "4                                   0.0   \n",
       "\n",
       "   cat_pipeline__defensive_work_rate_high  \\\n",
       "0                                     1.0   \n",
       "1                                     0.0   \n",
       "2                                     0.0   \n",
       "3                                     1.0   \n",
       "4                                     0.0   \n",
       "\n",
       "   cat_pipeline__defensive_work_rate_low  \\\n",
       "0                                    0.0   \n",
       "1                                    0.0   \n",
       "2                                    0.0   \n",
       "3                                    0.0   \n",
       "4                                    0.0   \n",
       "\n",
       "   cat_pipeline__defensive_work_rate_medium  \\\n",
       "0                                       0.0   \n",
       "1                                       1.0   \n",
       "2                                       1.0   \n",
       "3                                       0.0   \n",
       "4                                       1.0   \n",
       "\n",
       "   cat_pipeline__defensive_work_rate_o  \\\n",
       "0                                  0.0   \n",
       "1                                  0.0   \n",
       "2                                  0.0   \n",
       "3                                  0.0   \n",
       "4                                  0.0   \n",
       "\n",
       "   cat_pipeline__defensive_work_rate_ormal  \\\n",
       "0                                      0.0   \n",
       "1                                      0.0   \n",
       "2                                      0.0   \n",
       "3                                      0.0   \n",
       "4                                      0.0   \n",
       "\n",
       "   cat_pipeline__defensive_work_rate_tocky  \\\n",
       "0                                      0.0   \n",
       "1                                      0.0   \n",
       "2                                      0.0   \n",
       "3                                      0.0   \n",
       "4                                      0.0   \n",
       "\n",
       "   cat_pipeline__defensive_work_rate_None  \n",
       "0                                     0.0  \n",
       "1                                     0.0  \n",
       "2                                     0.0  \n",
       "3                                     0.0  \n",
       "4                                     0.0  \n",
       "\n",
       "[5 rows x 68 columns]"
      ]
     },
     "execution_count": 62,
     "metadata": {},
     "output_type": "execute_result"
    }
   ],
   "source": [
    "X_train.head()"
   ]
  },
  {
   "cell_type": "markdown",
   "metadata": {},
   "source": [
    "As tree model doesn't gets affected by missing values present in data set. but feature selection by SelectFromModel can not be done on datasets that carries null value. Therefore, we should also perform imputation on dataset."
   ]
  },
  {
   "cell_type": "code",
   "execution_count": null,
   "metadata": {},
   "outputs": [],
   "source": []
  },
  {
   "cell_type": "markdown",
   "metadata": {},
   "source": [
    "### Training different models :\n",
    "### 1. Linear Regression :"
   ]
  },
  {
   "cell_type": "code",
   "execution_count": 63,
   "metadata": {},
   "outputs": [
    {
     "data": {
      "text/html": [
       "<style>#sk-container-id-1 {color: black;background-color: white;}#sk-container-id-1 pre{padding: 0;}#sk-container-id-1 div.sk-toggleable {background-color: white;}#sk-container-id-1 label.sk-toggleable__label {cursor: pointer;display: block;width: 100%;margin-bottom: 0;padding: 0.3em;box-sizing: border-box;text-align: center;}#sk-container-id-1 label.sk-toggleable__label-arrow:before {content: \"▸\";float: left;margin-right: 0.25em;color: #696969;}#sk-container-id-1 label.sk-toggleable__label-arrow:hover:before {color: black;}#sk-container-id-1 div.sk-estimator:hover label.sk-toggleable__label-arrow:before {color: black;}#sk-container-id-1 div.sk-toggleable__content {max-height: 0;max-width: 0;overflow: hidden;text-align: left;background-color: #f0f8ff;}#sk-container-id-1 div.sk-toggleable__content pre {margin: 0.2em;color: black;border-radius: 0.25em;background-color: #f0f8ff;}#sk-container-id-1 input.sk-toggleable__control:checked~div.sk-toggleable__content {max-height: 200px;max-width: 100%;overflow: auto;}#sk-container-id-1 input.sk-toggleable__control:checked~label.sk-toggleable__label-arrow:before {content: \"▾\";}#sk-container-id-1 div.sk-estimator input.sk-toggleable__control:checked~label.sk-toggleable__label {background-color: #d4ebff;}#sk-container-id-1 div.sk-label input.sk-toggleable__control:checked~label.sk-toggleable__label {background-color: #d4ebff;}#sk-container-id-1 input.sk-hidden--visually {border: 0;clip: rect(1px 1px 1px 1px);clip: rect(1px, 1px, 1px, 1px);height: 1px;margin: -1px;overflow: hidden;padding: 0;position: absolute;width: 1px;}#sk-container-id-1 div.sk-estimator {font-family: monospace;background-color: #f0f8ff;border: 1px dotted black;border-radius: 0.25em;box-sizing: border-box;margin-bottom: 0.5em;}#sk-container-id-1 div.sk-estimator:hover {background-color: #d4ebff;}#sk-container-id-1 div.sk-parallel-item::after {content: \"\";width: 100%;border-bottom: 1px solid gray;flex-grow: 1;}#sk-container-id-1 div.sk-label:hover label.sk-toggleable__label {background-color: #d4ebff;}#sk-container-id-1 div.sk-serial::before {content: \"\";position: absolute;border-left: 1px solid gray;box-sizing: border-box;top: 0;bottom: 0;left: 50%;z-index: 0;}#sk-container-id-1 div.sk-serial {display: flex;flex-direction: column;align-items: center;background-color: white;padding-right: 0.2em;padding-left: 0.2em;position: relative;}#sk-container-id-1 div.sk-item {position: relative;z-index: 1;}#sk-container-id-1 div.sk-parallel {display: flex;align-items: stretch;justify-content: center;background-color: white;position: relative;}#sk-container-id-1 div.sk-item::before, #sk-container-id-1 div.sk-parallel-item::before {content: \"\";position: absolute;border-left: 1px solid gray;box-sizing: border-box;top: 0;bottom: 0;left: 50%;z-index: -1;}#sk-container-id-1 div.sk-parallel-item {display: flex;flex-direction: column;z-index: 1;position: relative;background-color: white;}#sk-container-id-1 div.sk-parallel-item:first-child::after {align-self: flex-end;width: 50%;}#sk-container-id-1 div.sk-parallel-item:last-child::after {align-self: flex-start;width: 50%;}#sk-container-id-1 div.sk-parallel-item:only-child::after {width: 0;}#sk-container-id-1 div.sk-dashed-wrapped {border: 1px dashed gray;margin: 0 0.4em 0.5em 0.4em;box-sizing: border-box;padding-bottom: 0.4em;background-color: white;}#sk-container-id-1 div.sk-label label {font-family: monospace;font-weight: bold;display: inline-block;line-height: 1.2em;}#sk-container-id-1 div.sk-label-container {text-align: center;}#sk-container-id-1 div.sk-container {/* jupyter's `normalize.less` sets `[hidden] { display: none; }` but bootstrap.min.css set `[hidden] { display: none !important; }` so we also need the `!important` here to be able to override the default hidden behavior on the sphinx rendered scikit-learn.org. See: https://github.com/scikit-learn/scikit-learn/issues/21755 */display: inline-block !important;position: relative;}#sk-container-id-1 div.sk-text-repr-fallback {display: none;}</style><div id=\"sk-container-id-1\" class=\"sk-top-container\"><div class=\"sk-text-repr-fallback\"><pre>LinearRegression()</pre><b>In a Jupyter environment, please rerun this cell to show the HTML representation or trust the notebook. <br />On GitHub, the HTML representation is unable to render, please try loading this page with nbviewer.org.</b></div><div class=\"sk-container\" hidden><div class=\"sk-item\"><div class=\"sk-estimator sk-toggleable\"><input class=\"sk-toggleable__control sk-hidden--visually\" id=\"sk-estimator-id-1\" type=\"checkbox\" checked><label for=\"sk-estimator-id-1\" class=\"sk-toggleable__label sk-toggleable__label-arrow\">LinearRegression</label><div class=\"sk-toggleable__content\"><pre>LinearRegression()</pre></div></div></div></div></div>"
      ],
      "text/plain": [
       "LinearRegression()"
      ]
     },
     "execution_count": 63,
     "metadata": {},
     "output_type": "execute_result"
    }
   ],
   "source": [
    "linear_reg = LinearRegression()\n",
    "linear_reg.fit(X_train, y_train)"
   ]
  },
  {
   "cell_type": "code",
   "execution_count": 64,
   "metadata": {},
   "outputs": [
    {
     "data": {
      "text/plain": [
       "0.8603055607641394"
      ]
     },
     "execution_count": 64,
     "metadata": {},
     "output_type": "execute_result"
    }
   ],
   "source": [
    "linear_reg.score(X_test, y_test)"
   ]
  },
  {
   "cell_type": "markdown",
   "metadata": {},
   "source": [
    "### Hyperparameter Tuning:"
   ]
  },
  {
   "cell_type": "code",
   "execution_count": 65,
   "metadata": {},
   "outputs": [],
   "source": [
    "cv = ShuffleSplit(random_state=0)   #defining type of cross_validation(shuffle spliting)\n",
    "\n",
    "param_grid = {'n_jobs': [-1]}     #parameters for model tunning\n",
    "\n",
    "grid = GridSearchCV(linear_reg, param_grid=param_grid, cv=cv)"
   ]
  },
  {
   "cell_type": "code",
   "execution_count": 66,
   "metadata": {},
   "outputs": [
    {
     "data": {
      "text/html": [
       "<style>#sk-container-id-2 {color: black;background-color: white;}#sk-container-id-2 pre{padding: 0;}#sk-container-id-2 div.sk-toggleable {background-color: white;}#sk-container-id-2 label.sk-toggleable__label {cursor: pointer;display: block;width: 100%;margin-bottom: 0;padding: 0.3em;box-sizing: border-box;text-align: center;}#sk-container-id-2 label.sk-toggleable__label-arrow:before {content: \"▸\";float: left;margin-right: 0.25em;color: #696969;}#sk-container-id-2 label.sk-toggleable__label-arrow:hover:before {color: black;}#sk-container-id-2 div.sk-estimator:hover label.sk-toggleable__label-arrow:before {color: black;}#sk-container-id-2 div.sk-toggleable__content {max-height: 0;max-width: 0;overflow: hidden;text-align: left;background-color: #f0f8ff;}#sk-container-id-2 div.sk-toggleable__content pre {margin: 0.2em;color: black;border-radius: 0.25em;background-color: #f0f8ff;}#sk-container-id-2 input.sk-toggleable__control:checked~div.sk-toggleable__content {max-height: 200px;max-width: 100%;overflow: auto;}#sk-container-id-2 input.sk-toggleable__control:checked~label.sk-toggleable__label-arrow:before {content: \"▾\";}#sk-container-id-2 div.sk-estimator input.sk-toggleable__control:checked~label.sk-toggleable__label {background-color: #d4ebff;}#sk-container-id-2 div.sk-label input.sk-toggleable__control:checked~label.sk-toggleable__label {background-color: #d4ebff;}#sk-container-id-2 input.sk-hidden--visually {border: 0;clip: rect(1px 1px 1px 1px);clip: rect(1px, 1px, 1px, 1px);height: 1px;margin: -1px;overflow: hidden;padding: 0;position: absolute;width: 1px;}#sk-container-id-2 div.sk-estimator {font-family: monospace;background-color: #f0f8ff;border: 1px dotted black;border-radius: 0.25em;box-sizing: border-box;margin-bottom: 0.5em;}#sk-container-id-2 div.sk-estimator:hover {background-color: #d4ebff;}#sk-container-id-2 div.sk-parallel-item::after {content: \"\";width: 100%;border-bottom: 1px solid gray;flex-grow: 1;}#sk-container-id-2 div.sk-label:hover label.sk-toggleable__label {background-color: #d4ebff;}#sk-container-id-2 div.sk-serial::before {content: \"\";position: absolute;border-left: 1px solid gray;box-sizing: border-box;top: 0;bottom: 0;left: 50%;z-index: 0;}#sk-container-id-2 div.sk-serial {display: flex;flex-direction: column;align-items: center;background-color: white;padding-right: 0.2em;padding-left: 0.2em;position: relative;}#sk-container-id-2 div.sk-item {position: relative;z-index: 1;}#sk-container-id-2 div.sk-parallel {display: flex;align-items: stretch;justify-content: center;background-color: white;position: relative;}#sk-container-id-2 div.sk-item::before, #sk-container-id-2 div.sk-parallel-item::before {content: \"\";position: absolute;border-left: 1px solid gray;box-sizing: border-box;top: 0;bottom: 0;left: 50%;z-index: -1;}#sk-container-id-2 div.sk-parallel-item {display: flex;flex-direction: column;z-index: 1;position: relative;background-color: white;}#sk-container-id-2 div.sk-parallel-item:first-child::after {align-self: flex-end;width: 50%;}#sk-container-id-2 div.sk-parallel-item:last-child::after {align-self: flex-start;width: 50%;}#sk-container-id-2 div.sk-parallel-item:only-child::after {width: 0;}#sk-container-id-2 div.sk-dashed-wrapped {border: 1px dashed gray;margin: 0 0.4em 0.5em 0.4em;box-sizing: border-box;padding-bottom: 0.4em;background-color: white;}#sk-container-id-2 div.sk-label label {font-family: monospace;font-weight: bold;display: inline-block;line-height: 1.2em;}#sk-container-id-2 div.sk-label-container {text-align: center;}#sk-container-id-2 div.sk-container {/* jupyter's `normalize.less` sets `[hidden] { display: none; }` but bootstrap.min.css set `[hidden] { display: none !important; }` so we also need the `!important` here to be able to override the default hidden behavior on the sphinx rendered scikit-learn.org. See: https://github.com/scikit-learn/scikit-learn/issues/21755 */display: inline-block !important;position: relative;}#sk-container-id-2 div.sk-text-repr-fallback {display: none;}</style><div id=\"sk-container-id-2\" class=\"sk-top-container\"><div class=\"sk-text-repr-fallback\"><pre>GridSearchCV(cv=ShuffleSplit(n_splits=10, random_state=0, test_size=None, train_size=None),\n",
       "             estimator=LinearRegression(), param_grid={&#x27;n_jobs&#x27;: [-1]})</pre><b>In a Jupyter environment, please rerun this cell to show the HTML representation or trust the notebook. <br />On GitHub, the HTML representation is unable to render, please try loading this page with nbviewer.org.</b></div><div class=\"sk-container\" hidden><div class=\"sk-item sk-dashed-wrapped\"><div class=\"sk-label-container\"><div class=\"sk-label sk-toggleable\"><input class=\"sk-toggleable__control sk-hidden--visually\" id=\"sk-estimator-id-2\" type=\"checkbox\" ><label for=\"sk-estimator-id-2\" class=\"sk-toggleable__label sk-toggleable__label-arrow\">GridSearchCV</label><div class=\"sk-toggleable__content\"><pre>GridSearchCV(cv=ShuffleSplit(n_splits=10, random_state=0, test_size=None, train_size=None),\n",
       "             estimator=LinearRegression(), param_grid={&#x27;n_jobs&#x27;: [-1]})</pre></div></div></div><div class=\"sk-parallel\"><div class=\"sk-parallel-item\"><div class=\"sk-item\"><div class=\"sk-label-container\"><div class=\"sk-label sk-toggleable\"><input class=\"sk-toggleable__control sk-hidden--visually\" id=\"sk-estimator-id-3\" type=\"checkbox\" ><label for=\"sk-estimator-id-3\" class=\"sk-toggleable__label sk-toggleable__label-arrow\">estimator: LinearRegression</label><div class=\"sk-toggleable__content\"><pre>LinearRegression()</pre></div></div></div><div class=\"sk-serial\"><div class=\"sk-item\"><div class=\"sk-estimator sk-toggleable\"><input class=\"sk-toggleable__control sk-hidden--visually\" id=\"sk-estimator-id-4\" type=\"checkbox\" ><label for=\"sk-estimator-id-4\" class=\"sk-toggleable__label sk-toggleable__label-arrow\">LinearRegression</label><div class=\"sk-toggleable__content\"><pre>LinearRegression()</pre></div></div></div></div></div></div></div></div></div></div>"
      ],
      "text/plain": [
       "GridSearchCV(cv=ShuffleSplit(n_splits=10, random_state=0, test_size=None, train_size=None),\n",
       "             estimator=LinearRegression(), param_grid={'n_jobs': [-1]})"
      ]
     },
     "execution_count": 66,
     "metadata": {},
     "output_type": "execute_result"
    }
   ],
   "source": [
    "grid.fit(X_train, y_train) "
   ]
  },
  {
   "cell_type": "code",
   "execution_count": 67,
   "metadata": {},
   "outputs": [
    {
     "data": {
      "text/plain": [
       "{'n_jobs': -1}"
      ]
     },
     "execution_count": 67,
     "metadata": {},
     "output_type": "execute_result"
    }
   ],
   "source": [
    "grid.best_params_"
   ]
  },
  {
   "cell_type": "code",
   "execution_count": 68,
   "metadata": {},
   "outputs": [
    {
     "data": {
      "text/html": [
       "<style>#sk-container-id-3 {color: black;background-color: white;}#sk-container-id-3 pre{padding: 0;}#sk-container-id-3 div.sk-toggleable {background-color: white;}#sk-container-id-3 label.sk-toggleable__label {cursor: pointer;display: block;width: 100%;margin-bottom: 0;padding: 0.3em;box-sizing: border-box;text-align: center;}#sk-container-id-3 label.sk-toggleable__label-arrow:before {content: \"▸\";float: left;margin-right: 0.25em;color: #696969;}#sk-container-id-3 label.sk-toggleable__label-arrow:hover:before {color: black;}#sk-container-id-3 div.sk-estimator:hover label.sk-toggleable__label-arrow:before {color: black;}#sk-container-id-3 div.sk-toggleable__content {max-height: 0;max-width: 0;overflow: hidden;text-align: left;background-color: #f0f8ff;}#sk-container-id-3 div.sk-toggleable__content pre {margin: 0.2em;color: black;border-radius: 0.25em;background-color: #f0f8ff;}#sk-container-id-3 input.sk-toggleable__control:checked~div.sk-toggleable__content {max-height: 200px;max-width: 100%;overflow: auto;}#sk-container-id-3 input.sk-toggleable__control:checked~label.sk-toggleable__label-arrow:before {content: \"▾\";}#sk-container-id-3 div.sk-estimator input.sk-toggleable__control:checked~label.sk-toggleable__label {background-color: #d4ebff;}#sk-container-id-3 div.sk-label input.sk-toggleable__control:checked~label.sk-toggleable__label {background-color: #d4ebff;}#sk-container-id-3 input.sk-hidden--visually {border: 0;clip: rect(1px 1px 1px 1px);clip: rect(1px, 1px, 1px, 1px);height: 1px;margin: -1px;overflow: hidden;padding: 0;position: absolute;width: 1px;}#sk-container-id-3 div.sk-estimator {font-family: monospace;background-color: #f0f8ff;border: 1px dotted black;border-radius: 0.25em;box-sizing: border-box;margin-bottom: 0.5em;}#sk-container-id-3 div.sk-estimator:hover {background-color: #d4ebff;}#sk-container-id-3 div.sk-parallel-item::after {content: \"\";width: 100%;border-bottom: 1px solid gray;flex-grow: 1;}#sk-container-id-3 div.sk-label:hover label.sk-toggleable__label {background-color: #d4ebff;}#sk-container-id-3 div.sk-serial::before {content: \"\";position: absolute;border-left: 1px solid gray;box-sizing: border-box;top: 0;bottom: 0;left: 50%;z-index: 0;}#sk-container-id-3 div.sk-serial {display: flex;flex-direction: column;align-items: center;background-color: white;padding-right: 0.2em;padding-left: 0.2em;position: relative;}#sk-container-id-3 div.sk-item {position: relative;z-index: 1;}#sk-container-id-3 div.sk-parallel {display: flex;align-items: stretch;justify-content: center;background-color: white;position: relative;}#sk-container-id-3 div.sk-item::before, #sk-container-id-3 div.sk-parallel-item::before {content: \"\";position: absolute;border-left: 1px solid gray;box-sizing: border-box;top: 0;bottom: 0;left: 50%;z-index: -1;}#sk-container-id-3 div.sk-parallel-item {display: flex;flex-direction: column;z-index: 1;position: relative;background-color: white;}#sk-container-id-3 div.sk-parallel-item:first-child::after {align-self: flex-end;width: 50%;}#sk-container-id-3 div.sk-parallel-item:last-child::after {align-self: flex-start;width: 50%;}#sk-container-id-3 div.sk-parallel-item:only-child::after {width: 0;}#sk-container-id-3 div.sk-dashed-wrapped {border: 1px dashed gray;margin: 0 0.4em 0.5em 0.4em;box-sizing: border-box;padding-bottom: 0.4em;background-color: white;}#sk-container-id-3 div.sk-label label {font-family: monospace;font-weight: bold;display: inline-block;line-height: 1.2em;}#sk-container-id-3 div.sk-label-container {text-align: center;}#sk-container-id-3 div.sk-container {/* jupyter's `normalize.less` sets `[hidden] { display: none; }` but bootstrap.min.css set `[hidden] { display: none !important; }` so we also need the `!important` here to be able to override the default hidden behavior on the sphinx rendered scikit-learn.org. See: https://github.com/scikit-learn/scikit-learn/issues/21755 */display: inline-block !important;position: relative;}#sk-container-id-3 div.sk-text-repr-fallback {display: none;}</style><div id=\"sk-container-id-3\" class=\"sk-top-container\"><div class=\"sk-text-repr-fallback\"><pre>LinearRegression(n_jobs=-1)</pre><b>In a Jupyter environment, please rerun this cell to show the HTML representation or trust the notebook. <br />On GitHub, the HTML representation is unable to render, please try loading this page with nbviewer.org.</b></div><div class=\"sk-container\" hidden><div class=\"sk-item\"><div class=\"sk-estimator sk-toggleable\"><input class=\"sk-toggleable__control sk-hidden--visually\" id=\"sk-estimator-id-5\" type=\"checkbox\" checked><label for=\"sk-estimator-id-5\" class=\"sk-toggleable__label sk-toggleable__label-arrow\">LinearRegression</label><div class=\"sk-toggleable__content\"><pre>LinearRegression(n_jobs=-1)</pre></div></div></div></div></div>"
      ],
      "text/plain": [
       "LinearRegression(n_jobs=-1)"
      ]
     },
     "execution_count": 68,
     "metadata": {},
     "output_type": "execute_result"
    }
   ],
   "source": [
    "grid.best_estimator_"
   ]
  },
  {
   "cell_type": "code",
   "execution_count": 69,
   "metadata": {},
   "outputs": [
    {
     "data": {
      "text/html": [
       "<style>#sk-container-id-4 {color: black;background-color: white;}#sk-container-id-4 pre{padding: 0;}#sk-container-id-4 div.sk-toggleable {background-color: white;}#sk-container-id-4 label.sk-toggleable__label {cursor: pointer;display: block;width: 100%;margin-bottom: 0;padding: 0.3em;box-sizing: border-box;text-align: center;}#sk-container-id-4 label.sk-toggleable__label-arrow:before {content: \"▸\";float: left;margin-right: 0.25em;color: #696969;}#sk-container-id-4 label.sk-toggleable__label-arrow:hover:before {color: black;}#sk-container-id-4 div.sk-estimator:hover label.sk-toggleable__label-arrow:before {color: black;}#sk-container-id-4 div.sk-toggleable__content {max-height: 0;max-width: 0;overflow: hidden;text-align: left;background-color: #f0f8ff;}#sk-container-id-4 div.sk-toggleable__content pre {margin: 0.2em;color: black;border-radius: 0.25em;background-color: #f0f8ff;}#sk-container-id-4 input.sk-toggleable__control:checked~div.sk-toggleable__content {max-height: 200px;max-width: 100%;overflow: auto;}#sk-container-id-4 input.sk-toggleable__control:checked~label.sk-toggleable__label-arrow:before {content: \"▾\";}#sk-container-id-4 div.sk-estimator input.sk-toggleable__control:checked~label.sk-toggleable__label {background-color: #d4ebff;}#sk-container-id-4 div.sk-label input.sk-toggleable__control:checked~label.sk-toggleable__label {background-color: #d4ebff;}#sk-container-id-4 input.sk-hidden--visually {border: 0;clip: rect(1px 1px 1px 1px);clip: rect(1px, 1px, 1px, 1px);height: 1px;margin: -1px;overflow: hidden;padding: 0;position: absolute;width: 1px;}#sk-container-id-4 div.sk-estimator {font-family: monospace;background-color: #f0f8ff;border: 1px dotted black;border-radius: 0.25em;box-sizing: border-box;margin-bottom: 0.5em;}#sk-container-id-4 div.sk-estimator:hover {background-color: #d4ebff;}#sk-container-id-4 div.sk-parallel-item::after {content: \"\";width: 100%;border-bottom: 1px solid gray;flex-grow: 1;}#sk-container-id-4 div.sk-label:hover label.sk-toggleable__label {background-color: #d4ebff;}#sk-container-id-4 div.sk-serial::before {content: \"\";position: absolute;border-left: 1px solid gray;box-sizing: border-box;top: 0;bottom: 0;left: 50%;z-index: 0;}#sk-container-id-4 div.sk-serial {display: flex;flex-direction: column;align-items: center;background-color: white;padding-right: 0.2em;padding-left: 0.2em;position: relative;}#sk-container-id-4 div.sk-item {position: relative;z-index: 1;}#sk-container-id-4 div.sk-parallel {display: flex;align-items: stretch;justify-content: center;background-color: white;position: relative;}#sk-container-id-4 div.sk-item::before, #sk-container-id-4 div.sk-parallel-item::before {content: \"\";position: absolute;border-left: 1px solid gray;box-sizing: border-box;top: 0;bottom: 0;left: 50%;z-index: -1;}#sk-container-id-4 div.sk-parallel-item {display: flex;flex-direction: column;z-index: 1;position: relative;background-color: white;}#sk-container-id-4 div.sk-parallel-item:first-child::after {align-self: flex-end;width: 50%;}#sk-container-id-4 div.sk-parallel-item:last-child::after {align-self: flex-start;width: 50%;}#sk-container-id-4 div.sk-parallel-item:only-child::after {width: 0;}#sk-container-id-4 div.sk-dashed-wrapped {border: 1px dashed gray;margin: 0 0.4em 0.5em 0.4em;box-sizing: border-box;padding-bottom: 0.4em;background-color: white;}#sk-container-id-4 div.sk-label label {font-family: monospace;font-weight: bold;display: inline-block;line-height: 1.2em;}#sk-container-id-4 div.sk-label-container {text-align: center;}#sk-container-id-4 div.sk-container {/* jupyter's `normalize.less` sets `[hidden] { display: none; }` but bootstrap.min.css set `[hidden] { display: none !important; }` so we also need the `!important` here to be able to override the default hidden behavior on the sphinx rendered scikit-learn.org. See: https://github.com/scikit-learn/scikit-learn/issues/21755 */display: inline-block !important;position: relative;}#sk-container-id-4 div.sk-text-repr-fallback {display: none;}</style><div id=\"sk-container-id-4\" class=\"sk-top-container\"><div class=\"sk-text-repr-fallback\"><pre>LinearRegression(n_jobs=-1)</pre><b>In a Jupyter environment, please rerun this cell to show the HTML representation or trust the notebook. <br />On GitHub, the HTML representation is unable to render, please try loading this page with nbviewer.org.</b></div><div class=\"sk-container\" hidden><div class=\"sk-item\"><div class=\"sk-estimator sk-toggleable\"><input class=\"sk-toggleable__control sk-hidden--visually\" id=\"sk-estimator-id-6\" type=\"checkbox\" checked><label for=\"sk-estimator-id-6\" class=\"sk-toggleable__label sk-toggleable__label-arrow\">LinearRegression</label><div class=\"sk-toggleable__content\"><pre>LinearRegression(n_jobs=-1)</pre></div></div></div></div></div>"
      ],
      "text/plain": [
       "LinearRegression(n_jobs=-1)"
      ]
     },
     "execution_count": 69,
     "metadata": {},
     "output_type": "execute_result"
    }
   ],
   "source": [
    "new_linear_reg = LinearRegression(copy_X=True, fit_intercept=True, n_jobs=-1)\n",
    "new_linear_reg.fit(X_train, y_train)"
   ]
  },
  {
   "cell_type": "code",
   "execution_count": 70,
   "metadata": {},
   "outputs": [
    {
     "data": {
      "text/plain": [
       "0.8603055607641394"
      ]
     },
     "execution_count": 70,
     "metadata": {},
     "output_type": "execute_result"
    }
   ],
   "source": [
    "new_linear_reg.score(X_test, y_test)"
   ]
  },
  {
   "cell_type": "markdown",
   "metadata": {},
   "source": [
    "### 2. Decision Tree :"
   ]
  },
  {
   "cell_type": "code",
   "execution_count": 71,
   "metadata": {},
   "outputs": [
    {
     "data": {
      "text/html": [
       "<style>#sk-container-id-5 {color: black;background-color: white;}#sk-container-id-5 pre{padding: 0;}#sk-container-id-5 div.sk-toggleable {background-color: white;}#sk-container-id-5 label.sk-toggleable__label {cursor: pointer;display: block;width: 100%;margin-bottom: 0;padding: 0.3em;box-sizing: border-box;text-align: center;}#sk-container-id-5 label.sk-toggleable__label-arrow:before {content: \"▸\";float: left;margin-right: 0.25em;color: #696969;}#sk-container-id-5 label.sk-toggleable__label-arrow:hover:before {color: black;}#sk-container-id-5 div.sk-estimator:hover label.sk-toggleable__label-arrow:before {color: black;}#sk-container-id-5 div.sk-toggleable__content {max-height: 0;max-width: 0;overflow: hidden;text-align: left;background-color: #f0f8ff;}#sk-container-id-5 div.sk-toggleable__content pre {margin: 0.2em;color: black;border-radius: 0.25em;background-color: #f0f8ff;}#sk-container-id-5 input.sk-toggleable__control:checked~div.sk-toggleable__content {max-height: 200px;max-width: 100%;overflow: auto;}#sk-container-id-5 input.sk-toggleable__control:checked~label.sk-toggleable__label-arrow:before {content: \"▾\";}#sk-container-id-5 div.sk-estimator input.sk-toggleable__control:checked~label.sk-toggleable__label {background-color: #d4ebff;}#sk-container-id-5 div.sk-label input.sk-toggleable__control:checked~label.sk-toggleable__label {background-color: #d4ebff;}#sk-container-id-5 input.sk-hidden--visually {border: 0;clip: rect(1px 1px 1px 1px);clip: rect(1px, 1px, 1px, 1px);height: 1px;margin: -1px;overflow: hidden;padding: 0;position: absolute;width: 1px;}#sk-container-id-5 div.sk-estimator {font-family: monospace;background-color: #f0f8ff;border: 1px dotted black;border-radius: 0.25em;box-sizing: border-box;margin-bottom: 0.5em;}#sk-container-id-5 div.sk-estimator:hover {background-color: #d4ebff;}#sk-container-id-5 div.sk-parallel-item::after {content: \"\";width: 100%;border-bottom: 1px solid gray;flex-grow: 1;}#sk-container-id-5 div.sk-label:hover label.sk-toggleable__label {background-color: #d4ebff;}#sk-container-id-5 div.sk-serial::before {content: \"\";position: absolute;border-left: 1px solid gray;box-sizing: border-box;top: 0;bottom: 0;left: 50%;z-index: 0;}#sk-container-id-5 div.sk-serial {display: flex;flex-direction: column;align-items: center;background-color: white;padding-right: 0.2em;padding-left: 0.2em;position: relative;}#sk-container-id-5 div.sk-item {position: relative;z-index: 1;}#sk-container-id-5 div.sk-parallel {display: flex;align-items: stretch;justify-content: center;background-color: white;position: relative;}#sk-container-id-5 div.sk-item::before, #sk-container-id-5 div.sk-parallel-item::before {content: \"\";position: absolute;border-left: 1px solid gray;box-sizing: border-box;top: 0;bottom: 0;left: 50%;z-index: -1;}#sk-container-id-5 div.sk-parallel-item {display: flex;flex-direction: column;z-index: 1;position: relative;background-color: white;}#sk-container-id-5 div.sk-parallel-item:first-child::after {align-self: flex-end;width: 50%;}#sk-container-id-5 div.sk-parallel-item:last-child::after {align-self: flex-start;width: 50%;}#sk-container-id-5 div.sk-parallel-item:only-child::after {width: 0;}#sk-container-id-5 div.sk-dashed-wrapped {border: 1px dashed gray;margin: 0 0.4em 0.5em 0.4em;box-sizing: border-box;padding-bottom: 0.4em;background-color: white;}#sk-container-id-5 div.sk-label label {font-family: monospace;font-weight: bold;display: inline-block;line-height: 1.2em;}#sk-container-id-5 div.sk-label-container {text-align: center;}#sk-container-id-5 div.sk-container {/* jupyter's `normalize.less` sets `[hidden] { display: none; }` but bootstrap.min.css set `[hidden] { display: none !important; }` so we also need the `!important` here to be able to override the default hidden behavior on the sphinx rendered scikit-learn.org. See: https://github.com/scikit-learn/scikit-learn/issues/21755 */display: inline-block !important;position: relative;}#sk-container-id-5 div.sk-text-repr-fallback {display: none;}</style><div id=\"sk-container-id-5\" class=\"sk-top-container\"><div class=\"sk-text-repr-fallback\"><pre>DecisionTreeRegressor(criterion=&#x27;friedman_mse&#x27;, random_state=0)</pre><b>In a Jupyter environment, please rerun this cell to show the HTML representation or trust the notebook. <br />On GitHub, the HTML representation is unable to render, please try loading this page with nbviewer.org.</b></div><div class=\"sk-container\" hidden><div class=\"sk-item\"><div class=\"sk-estimator sk-toggleable\"><input class=\"sk-toggleable__control sk-hidden--visually\" id=\"sk-estimator-id-7\" type=\"checkbox\" checked><label for=\"sk-estimator-id-7\" class=\"sk-toggleable__label sk-toggleable__label-arrow\">DecisionTreeRegressor</label><div class=\"sk-toggleable__content\"><pre>DecisionTreeRegressor(criterion=&#x27;friedman_mse&#x27;, random_state=0)</pre></div></div></div></div></div>"
      ],
      "text/plain": [
       "DecisionTreeRegressor(criterion='friedman_mse', random_state=0)"
      ]
     },
     "execution_count": 71,
     "metadata": {},
     "output_type": "execute_result"
    }
   ],
   "source": [
    "decision_tree = DecisionTreeRegressor(criterion='friedman_mse', random_state=0)         #estimator\n",
    "decision_tree.fit(X_train, y_train)"
   ]
  },
  {
   "cell_type": "code",
   "execution_count": 72,
   "metadata": {},
   "outputs": [
    {
     "data": {
      "text/plain": [
       "0.9583701280883454"
      ]
     },
     "execution_count": 72,
     "metadata": {},
     "output_type": "execute_result"
    }
   ],
   "source": [
    "decision_tree.score(X_test, y_test)"
   ]
  },
  {
   "cell_type": "code",
   "execution_count": 73,
   "metadata": {},
   "outputs": [],
   "source": [
    "\n",
    "cv = ShuffleSplit(n_splits=10, random_state=42)\n",
    "\n",
    "param_grid = {'max_depth': [3, 5, 7, 9, 13],\n",
    "             'criterion': ['friedman_mse']}\n",
    "\n",
    "grid = GridSearchCV(decision_tree, param_grid=param_grid, cv=cv)"
   ]
  },
  {
   "cell_type": "code",
   "execution_count": 74,
   "metadata": {},
   "outputs": [
    {
     "data": {
      "text/html": [
       "<style>#sk-container-id-6 {color: black;background-color: white;}#sk-container-id-6 pre{padding: 0;}#sk-container-id-6 div.sk-toggleable {background-color: white;}#sk-container-id-6 label.sk-toggleable__label {cursor: pointer;display: block;width: 100%;margin-bottom: 0;padding: 0.3em;box-sizing: border-box;text-align: center;}#sk-container-id-6 label.sk-toggleable__label-arrow:before {content: \"▸\";float: left;margin-right: 0.25em;color: #696969;}#sk-container-id-6 label.sk-toggleable__label-arrow:hover:before {color: black;}#sk-container-id-6 div.sk-estimator:hover label.sk-toggleable__label-arrow:before {color: black;}#sk-container-id-6 div.sk-toggleable__content {max-height: 0;max-width: 0;overflow: hidden;text-align: left;background-color: #f0f8ff;}#sk-container-id-6 div.sk-toggleable__content pre {margin: 0.2em;color: black;border-radius: 0.25em;background-color: #f0f8ff;}#sk-container-id-6 input.sk-toggleable__control:checked~div.sk-toggleable__content {max-height: 200px;max-width: 100%;overflow: auto;}#sk-container-id-6 input.sk-toggleable__control:checked~label.sk-toggleable__label-arrow:before {content: \"▾\";}#sk-container-id-6 div.sk-estimator input.sk-toggleable__control:checked~label.sk-toggleable__label {background-color: #d4ebff;}#sk-container-id-6 div.sk-label input.sk-toggleable__control:checked~label.sk-toggleable__label {background-color: #d4ebff;}#sk-container-id-6 input.sk-hidden--visually {border: 0;clip: rect(1px 1px 1px 1px);clip: rect(1px, 1px, 1px, 1px);height: 1px;margin: -1px;overflow: hidden;padding: 0;position: absolute;width: 1px;}#sk-container-id-6 div.sk-estimator {font-family: monospace;background-color: #f0f8ff;border: 1px dotted black;border-radius: 0.25em;box-sizing: border-box;margin-bottom: 0.5em;}#sk-container-id-6 div.sk-estimator:hover {background-color: #d4ebff;}#sk-container-id-6 div.sk-parallel-item::after {content: \"\";width: 100%;border-bottom: 1px solid gray;flex-grow: 1;}#sk-container-id-6 div.sk-label:hover label.sk-toggleable__label {background-color: #d4ebff;}#sk-container-id-6 div.sk-serial::before {content: \"\";position: absolute;border-left: 1px solid gray;box-sizing: border-box;top: 0;bottom: 0;left: 50%;z-index: 0;}#sk-container-id-6 div.sk-serial {display: flex;flex-direction: column;align-items: center;background-color: white;padding-right: 0.2em;padding-left: 0.2em;position: relative;}#sk-container-id-6 div.sk-item {position: relative;z-index: 1;}#sk-container-id-6 div.sk-parallel {display: flex;align-items: stretch;justify-content: center;background-color: white;position: relative;}#sk-container-id-6 div.sk-item::before, #sk-container-id-6 div.sk-parallel-item::before {content: \"\";position: absolute;border-left: 1px solid gray;box-sizing: border-box;top: 0;bottom: 0;left: 50%;z-index: -1;}#sk-container-id-6 div.sk-parallel-item {display: flex;flex-direction: column;z-index: 1;position: relative;background-color: white;}#sk-container-id-6 div.sk-parallel-item:first-child::after {align-self: flex-end;width: 50%;}#sk-container-id-6 div.sk-parallel-item:last-child::after {align-self: flex-start;width: 50%;}#sk-container-id-6 div.sk-parallel-item:only-child::after {width: 0;}#sk-container-id-6 div.sk-dashed-wrapped {border: 1px dashed gray;margin: 0 0.4em 0.5em 0.4em;box-sizing: border-box;padding-bottom: 0.4em;background-color: white;}#sk-container-id-6 div.sk-label label {font-family: monospace;font-weight: bold;display: inline-block;line-height: 1.2em;}#sk-container-id-6 div.sk-label-container {text-align: center;}#sk-container-id-6 div.sk-container {/* jupyter's `normalize.less` sets `[hidden] { display: none; }` but bootstrap.min.css set `[hidden] { display: none !important; }` so we also need the `!important` here to be able to override the default hidden behavior on the sphinx rendered scikit-learn.org. See: https://github.com/scikit-learn/scikit-learn/issues/21755 */display: inline-block !important;position: relative;}#sk-container-id-6 div.sk-text-repr-fallback {display: none;}</style><div id=\"sk-container-id-6\" class=\"sk-top-container\"><div class=\"sk-text-repr-fallback\"><pre>GridSearchCV(cv=ShuffleSplit(n_splits=10, random_state=42, test_size=None, train_size=None),\n",
       "             estimator=DecisionTreeRegressor(criterion=&#x27;friedman_mse&#x27;,\n",
       "                                             random_state=0),\n",
       "             param_grid={&#x27;criterion&#x27;: [&#x27;friedman_mse&#x27;],\n",
       "                         &#x27;max_depth&#x27;: [3, 5, 7, 9, 13]})</pre><b>In a Jupyter environment, please rerun this cell to show the HTML representation or trust the notebook. <br />On GitHub, the HTML representation is unable to render, please try loading this page with nbviewer.org.</b></div><div class=\"sk-container\" hidden><div class=\"sk-item sk-dashed-wrapped\"><div class=\"sk-label-container\"><div class=\"sk-label sk-toggleable\"><input class=\"sk-toggleable__control sk-hidden--visually\" id=\"sk-estimator-id-8\" type=\"checkbox\" ><label for=\"sk-estimator-id-8\" class=\"sk-toggleable__label sk-toggleable__label-arrow\">GridSearchCV</label><div class=\"sk-toggleable__content\"><pre>GridSearchCV(cv=ShuffleSplit(n_splits=10, random_state=42, test_size=None, train_size=None),\n",
       "             estimator=DecisionTreeRegressor(criterion=&#x27;friedman_mse&#x27;,\n",
       "                                             random_state=0),\n",
       "             param_grid={&#x27;criterion&#x27;: [&#x27;friedman_mse&#x27;],\n",
       "                         &#x27;max_depth&#x27;: [3, 5, 7, 9, 13]})</pre></div></div></div><div class=\"sk-parallel\"><div class=\"sk-parallel-item\"><div class=\"sk-item\"><div class=\"sk-label-container\"><div class=\"sk-label sk-toggleable\"><input class=\"sk-toggleable__control sk-hidden--visually\" id=\"sk-estimator-id-9\" type=\"checkbox\" ><label for=\"sk-estimator-id-9\" class=\"sk-toggleable__label sk-toggleable__label-arrow\">estimator: DecisionTreeRegressor</label><div class=\"sk-toggleable__content\"><pre>DecisionTreeRegressor(criterion=&#x27;friedman_mse&#x27;, random_state=0)</pre></div></div></div><div class=\"sk-serial\"><div class=\"sk-item\"><div class=\"sk-estimator sk-toggleable\"><input class=\"sk-toggleable__control sk-hidden--visually\" id=\"sk-estimator-id-10\" type=\"checkbox\" ><label for=\"sk-estimator-id-10\" class=\"sk-toggleable__label sk-toggleable__label-arrow\">DecisionTreeRegressor</label><div class=\"sk-toggleable__content\"><pre>DecisionTreeRegressor(criterion=&#x27;friedman_mse&#x27;, random_state=0)</pre></div></div></div></div></div></div></div></div></div></div>"
      ],
      "text/plain": [
       "GridSearchCV(cv=ShuffleSplit(n_splits=10, random_state=42, test_size=None, train_size=None),\n",
       "             estimator=DecisionTreeRegressor(criterion='friedman_mse',\n",
       "                                             random_state=0),\n",
       "             param_grid={'criterion': ['friedman_mse'],\n",
       "                         'max_depth': [3, 5, 7, 9, 13]})"
      ]
     },
     "execution_count": 74,
     "metadata": {},
     "output_type": "execute_result"
    }
   ],
   "source": [
    "grid.fit(X_train, y_train)"
   ]
  },
  {
   "cell_type": "code",
   "execution_count": 75,
   "metadata": {},
   "outputs": [
    {
     "data": {
      "text/plain": [
       "{'criterion': 'friedman_mse', 'max_depth': 13}"
      ]
     },
     "execution_count": 75,
     "metadata": {},
     "output_type": "execute_result"
    }
   ],
   "source": [
    "grid.best_params_"
   ]
  },
  {
   "cell_type": "code",
   "execution_count": 76,
   "metadata": {},
   "outputs": [
    {
     "data": {
      "text/html": [
       "<style>#sk-container-id-7 {color: black;background-color: white;}#sk-container-id-7 pre{padding: 0;}#sk-container-id-7 div.sk-toggleable {background-color: white;}#sk-container-id-7 label.sk-toggleable__label {cursor: pointer;display: block;width: 100%;margin-bottom: 0;padding: 0.3em;box-sizing: border-box;text-align: center;}#sk-container-id-7 label.sk-toggleable__label-arrow:before {content: \"▸\";float: left;margin-right: 0.25em;color: #696969;}#sk-container-id-7 label.sk-toggleable__label-arrow:hover:before {color: black;}#sk-container-id-7 div.sk-estimator:hover label.sk-toggleable__label-arrow:before {color: black;}#sk-container-id-7 div.sk-toggleable__content {max-height: 0;max-width: 0;overflow: hidden;text-align: left;background-color: #f0f8ff;}#sk-container-id-7 div.sk-toggleable__content pre {margin: 0.2em;color: black;border-radius: 0.25em;background-color: #f0f8ff;}#sk-container-id-7 input.sk-toggleable__control:checked~div.sk-toggleable__content {max-height: 200px;max-width: 100%;overflow: auto;}#sk-container-id-7 input.sk-toggleable__control:checked~label.sk-toggleable__label-arrow:before {content: \"▾\";}#sk-container-id-7 div.sk-estimator input.sk-toggleable__control:checked~label.sk-toggleable__label {background-color: #d4ebff;}#sk-container-id-7 div.sk-label input.sk-toggleable__control:checked~label.sk-toggleable__label {background-color: #d4ebff;}#sk-container-id-7 input.sk-hidden--visually {border: 0;clip: rect(1px 1px 1px 1px);clip: rect(1px, 1px, 1px, 1px);height: 1px;margin: -1px;overflow: hidden;padding: 0;position: absolute;width: 1px;}#sk-container-id-7 div.sk-estimator {font-family: monospace;background-color: #f0f8ff;border: 1px dotted black;border-radius: 0.25em;box-sizing: border-box;margin-bottom: 0.5em;}#sk-container-id-7 div.sk-estimator:hover {background-color: #d4ebff;}#sk-container-id-7 div.sk-parallel-item::after {content: \"\";width: 100%;border-bottom: 1px solid gray;flex-grow: 1;}#sk-container-id-7 div.sk-label:hover label.sk-toggleable__label {background-color: #d4ebff;}#sk-container-id-7 div.sk-serial::before {content: \"\";position: absolute;border-left: 1px solid gray;box-sizing: border-box;top: 0;bottom: 0;left: 50%;z-index: 0;}#sk-container-id-7 div.sk-serial {display: flex;flex-direction: column;align-items: center;background-color: white;padding-right: 0.2em;padding-left: 0.2em;position: relative;}#sk-container-id-7 div.sk-item {position: relative;z-index: 1;}#sk-container-id-7 div.sk-parallel {display: flex;align-items: stretch;justify-content: center;background-color: white;position: relative;}#sk-container-id-7 div.sk-item::before, #sk-container-id-7 div.sk-parallel-item::before {content: \"\";position: absolute;border-left: 1px solid gray;box-sizing: border-box;top: 0;bottom: 0;left: 50%;z-index: -1;}#sk-container-id-7 div.sk-parallel-item {display: flex;flex-direction: column;z-index: 1;position: relative;background-color: white;}#sk-container-id-7 div.sk-parallel-item:first-child::after {align-self: flex-end;width: 50%;}#sk-container-id-7 div.sk-parallel-item:last-child::after {align-self: flex-start;width: 50%;}#sk-container-id-7 div.sk-parallel-item:only-child::after {width: 0;}#sk-container-id-7 div.sk-dashed-wrapped {border: 1px dashed gray;margin: 0 0.4em 0.5em 0.4em;box-sizing: border-box;padding-bottom: 0.4em;background-color: white;}#sk-container-id-7 div.sk-label label {font-family: monospace;font-weight: bold;display: inline-block;line-height: 1.2em;}#sk-container-id-7 div.sk-label-container {text-align: center;}#sk-container-id-7 div.sk-container {/* jupyter's `normalize.less` sets `[hidden] { display: none; }` but bootstrap.min.css set `[hidden] { display: none !important; }` so we also need the `!important` here to be able to override the default hidden behavior on the sphinx rendered scikit-learn.org. See: https://github.com/scikit-learn/scikit-learn/issues/21755 */display: inline-block !important;position: relative;}#sk-container-id-7 div.sk-text-repr-fallback {display: none;}</style><div id=\"sk-container-id-7\" class=\"sk-top-container\"><div class=\"sk-text-repr-fallback\"><pre>DecisionTreeRegressor(criterion=&#x27;friedman_mse&#x27;, max_depth=13, random_state=0)</pre><b>In a Jupyter environment, please rerun this cell to show the HTML representation or trust the notebook. <br />On GitHub, the HTML representation is unable to render, please try loading this page with nbviewer.org.</b></div><div class=\"sk-container\" hidden><div class=\"sk-item\"><div class=\"sk-estimator sk-toggleable\"><input class=\"sk-toggleable__control sk-hidden--visually\" id=\"sk-estimator-id-11\" type=\"checkbox\" checked><label for=\"sk-estimator-id-11\" class=\"sk-toggleable__label sk-toggleable__label-arrow\">DecisionTreeRegressor</label><div class=\"sk-toggleable__content\"><pre>DecisionTreeRegressor(criterion=&#x27;friedman_mse&#x27;, max_depth=13, random_state=0)</pre></div></div></div></div></div>"
      ],
      "text/plain": [
       "DecisionTreeRegressor(criterion='friedman_mse', max_depth=13, random_state=0)"
      ]
     },
     "execution_count": 76,
     "metadata": {},
     "output_type": "execute_result"
    }
   ],
   "source": [
    "grid.best_estimator_"
   ]
  },
  {
   "cell_type": "code",
   "execution_count": 78,
   "metadata": {},
   "outputs": [
    {
     "data": {
      "text/html": [
       "<style>#sk-container-id-8 {color: black;background-color: white;}#sk-container-id-8 pre{padding: 0;}#sk-container-id-8 div.sk-toggleable {background-color: white;}#sk-container-id-8 label.sk-toggleable__label {cursor: pointer;display: block;width: 100%;margin-bottom: 0;padding: 0.3em;box-sizing: border-box;text-align: center;}#sk-container-id-8 label.sk-toggleable__label-arrow:before {content: \"▸\";float: left;margin-right: 0.25em;color: #696969;}#sk-container-id-8 label.sk-toggleable__label-arrow:hover:before {color: black;}#sk-container-id-8 div.sk-estimator:hover label.sk-toggleable__label-arrow:before {color: black;}#sk-container-id-8 div.sk-toggleable__content {max-height: 0;max-width: 0;overflow: hidden;text-align: left;background-color: #f0f8ff;}#sk-container-id-8 div.sk-toggleable__content pre {margin: 0.2em;color: black;border-radius: 0.25em;background-color: #f0f8ff;}#sk-container-id-8 input.sk-toggleable__control:checked~div.sk-toggleable__content {max-height: 200px;max-width: 100%;overflow: auto;}#sk-container-id-8 input.sk-toggleable__control:checked~label.sk-toggleable__label-arrow:before {content: \"▾\";}#sk-container-id-8 div.sk-estimator input.sk-toggleable__control:checked~label.sk-toggleable__label {background-color: #d4ebff;}#sk-container-id-8 div.sk-label input.sk-toggleable__control:checked~label.sk-toggleable__label {background-color: #d4ebff;}#sk-container-id-8 input.sk-hidden--visually {border: 0;clip: rect(1px 1px 1px 1px);clip: rect(1px, 1px, 1px, 1px);height: 1px;margin: -1px;overflow: hidden;padding: 0;position: absolute;width: 1px;}#sk-container-id-8 div.sk-estimator {font-family: monospace;background-color: #f0f8ff;border: 1px dotted black;border-radius: 0.25em;box-sizing: border-box;margin-bottom: 0.5em;}#sk-container-id-8 div.sk-estimator:hover {background-color: #d4ebff;}#sk-container-id-8 div.sk-parallel-item::after {content: \"\";width: 100%;border-bottom: 1px solid gray;flex-grow: 1;}#sk-container-id-8 div.sk-label:hover label.sk-toggleable__label {background-color: #d4ebff;}#sk-container-id-8 div.sk-serial::before {content: \"\";position: absolute;border-left: 1px solid gray;box-sizing: border-box;top: 0;bottom: 0;left: 50%;z-index: 0;}#sk-container-id-8 div.sk-serial {display: flex;flex-direction: column;align-items: center;background-color: white;padding-right: 0.2em;padding-left: 0.2em;position: relative;}#sk-container-id-8 div.sk-item {position: relative;z-index: 1;}#sk-container-id-8 div.sk-parallel {display: flex;align-items: stretch;justify-content: center;background-color: white;position: relative;}#sk-container-id-8 div.sk-item::before, #sk-container-id-8 div.sk-parallel-item::before {content: \"\";position: absolute;border-left: 1px solid gray;box-sizing: border-box;top: 0;bottom: 0;left: 50%;z-index: -1;}#sk-container-id-8 div.sk-parallel-item {display: flex;flex-direction: column;z-index: 1;position: relative;background-color: white;}#sk-container-id-8 div.sk-parallel-item:first-child::after {align-self: flex-end;width: 50%;}#sk-container-id-8 div.sk-parallel-item:last-child::after {align-self: flex-start;width: 50%;}#sk-container-id-8 div.sk-parallel-item:only-child::after {width: 0;}#sk-container-id-8 div.sk-dashed-wrapped {border: 1px dashed gray;margin: 0 0.4em 0.5em 0.4em;box-sizing: border-box;padding-bottom: 0.4em;background-color: white;}#sk-container-id-8 div.sk-label label {font-family: monospace;font-weight: bold;display: inline-block;line-height: 1.2em;}#sk-container-id-8 div.sk-label-container {text-align: center;}#sk-container-id-8 div.sk-container {/* jupyter's `normalize.less` sets `[hidden] { display: none; }` but bootstrap.min.css set `[hidden] { display: none !important; }` so we also need the `!important` here to be able to override the default hidden behavior on the sphinx rendered scikit-learn.org. See: https://github.com/scikit-learn/scikit-learn/issues/21755 */display: inline-block !important;position: relative;}#sk-container-id-8 div.sk-text-repr-fallback {display: none;}</style><div id=\"sk-container-id-8\" class=\"sk-top-container\"><div class=\"sk-text-repr-fallback\"><pre>DecisionTreeRegressor(criterion=&#x27;friedman_mse&#x27;, max_depth=13, random_state=0)</pre><b>In a Jupyter environment, please rerun this cell to show the HTML representation or trust the notebook. <br />On GitHub, the HTML representation is unable to render, please try loading this page with nbviewer.org.</b></div><div class=\"sk-container\" hidden><div class=\"sk-item\"><div class=\"sk-estimator sk-toggleable\"><input class=\"sk-toggleable__control sk-hidden--visually\" id=\"sk-estimator-id-12\" type=\"checkbox\" checked><label for=\"sk-estimator-id-12\" class=\"sk-toggleable__label sk-toggleable__label-arrow\">DecisionTreeRegressor</label><div class=\"sk-toggleable__content\"><pre>DecisionTreeRegressor(criterion=&#x27;friedman_mse&#x27;, max_depth=13, random_state=0)</pre></div></div></div></div></div>"
      ],
      "text/plain": [
       "DecisionTreeRegressor(criterion='friedman_mse', max_depth=13, random_state=0)"
      ]
     },
     "execution_count": 78,
     "metadata": {},
     "output_type": "execute_result"
    }
   ],
   "source": [
    "new_deci_tree = DecisionTreeRegressor(criterion='friedman_mse', max_depth=13, random_state=0)\n",
    "new_deci_tree.fit(X_train, y_train)"
   ]
  },
  {
   "cell_type": "code",
   "execution_count": 79,
   "metadata": {},
   "outputs": [
    {
     "data": {
      "text/plain": [
       "0.9293338101837106"
      ]
     },
     "execution_count": 79,
     "metadata": {},
     "output_type": "execute_result"
    }
   ],
   "source": [
    "new_deci_tree.score(X_test, y_test)"
   ]
  },
  {
   "cell_type": "markdown",
   "metadata": {},
   "source": [
    "### 3. Random Forest :"
   ]
  },
  {
   "cell_type": "code",
   "execution_count": 80,
   "metadata": {},
   "outputs": [
    {
     "data": {
      "text/html": [
       "<style>#sk-container-id-9 {color: black;background-color: white;}#sk-container-id-9 pre{padding: 0;}#sk-container-id-9 div.sk-toggleable {background-color: white;}#sk-container-id-9 label.sk-toggleable__label {cursor: pointer;display: block;width: 100%;margin-bottom: 0;padding: 0.3em;box-sizing: border-box;text-align: center;}#sk-container-id-9 label.sk-toggleable__label-arrow:before {content: \"▸\";float: left;margin-right: 0.25em;color: #696969;}#sk-container-id-9 label.sk-toggleable__label-arrow:hover:before {color: black;}#sk-container-id-9 div.sk-estimator:hover label.sk-toggleable__label-arrow:before {color: black;}#sk-container-id-9 div.sk-toggleable__content {max-height: 0;max-width: 0;overflow: hidden;text-align: left;background-color: #f0f8ff;}#sk-container-id-9 div.sk-toggleable__content pre {margin: 0.2em;color: black;border-radius: 0.25em;background-color: #f0f8ff;}#sk-container-id-9 input.sk-toggleable__control:checked~div.sk-toggleable__content {max-height: 200px;max-width: 100%;overflow: auto;}#sk-container-id-9 input.sk-toggleable__control:checked~label.sk-toggleable__label-arrow:before {content: \"▾\";}#sk-container-id-9 div.sk-estimator input.sk-toggleable__control:checked~label.sk-toggleable__label {background-color: #d4ebff;}#sk-container-id-9 div.sk-label input.sk-toggleable__control:checked~label.sk-toggleable__label {background-color: #d4ebff;}#sk-container-id-9 input.sk-hidden--visually {border: 0;clip: rect(1px 1px 1px 1px);clip: rect(1px, 1px, 1px, 1px);height: 1px;margin: -1px;overflow: hidden;padding: 0;position: absolute;width: 1px;}#sk-container-id-9 div.sk-estimator {font-family: monospace;background-color: #f0f8ff;border: 1px dotted black;border-radius: 0.25em;box-sizing: border-box;margin-bottom: 0.5em;}#sk-container-id-9 div.sk-estimator:hover {background-color: #d4ebff;}#sk-container-id-9 div.sk-parallel-item::after {content: \"\";width: 100%;border-bottom: 1px solid gray;flex-grow: 1;}#sk-container-id-9 div.sk-label:hover label.sk-toggleable__label {background-color: #d4ebff;}#sk-container-id-9 div.sk-serial::before {content: \"\";position: absolute;border-left: 1px solid gray;box-sizing: border-box;top: 0;bottom: 0;left: 50%;z-index: 0;}#sk-container-id-9 div.sk-serial {display: flex;flex-direction: column;align-items: center;background-color: white;padding-right: 0.2em;padding-left: 0.2em;position: relative;}#sk-container-id-9 div.sk-item {position: relative;z-index: 1;}#sk-container-id-9 div.sk-parallel {display: flex;align-items: stretch;justify-content: center;background-color: white;position: relative;}#sk-container-id-9 div.sk-item::before, #sk-container-id-9 div.sk-parallel-item::before {content: \"\";position: absolute;border-left: 1px solid gray;box-sizing: border-box;top: 0;bottom: 0;left: 50%;z-index: -1;}#sk-container-id-9 div.sk-parallel-item {display: flex;flex-direction: column;z-index: 1;position: relative;background-color: white;}#sk-container-id-9 div.sk-parallel-item:first-child::after {align-self: flex-end;width: 50%;}#sk-container-id-9 div.sk-parallel-item:last-child::after {align-self: flex-start;width: 50%;}#sk-container-id-9 div.sk-parallel-item:only-child::after {width: 0;}#sk-container-id-9 div.sk-dashed-wrapped {border: 1px dashed gray;margin: 0 0.4em 0.5em 0.4em;box-sizing: border-box;padding-bottom: 0.4em;background-color: white;}#sk-container-id-9 div.sk-label label {font-family: monospace;font-weight: bold;display: inline-block;line-height: 1.2em;}#sk-container-id-9 div.sk-label-container {text-align: center;}#sk-container-id-9 div.sk-container {/* jupyter's `normalize.less` sets `[hidden] { display: none; }` but bootstrap.min.css set `[hidden] { display: none !important; }` so we also need the `!important` here to be able to override the default hidden behavior on the sphinx rendered scikit-learn.org. See: https://github.com/scikit-learn/scikit-learn/issues/21755 */display: inline-block !important;position: relative;}#sk-container-id-9 div.sk-text-repr-fallback {display: none;}</style><div id=\"sk-container-id-9\" class=\"sk-top-container\"><div class=\"sk-text-repr-fallback\"><pre>RandomForestRegressor(random_state=123)</pre><b>In a Jupyter environment, please rerun this cell to show the HTML representation or trust the notebook. <br />On GitHub, the HTML representation is unable to render, please try loading this page with nbviewer.org.</b></div><div class=\"sk-container\" hidden><div class=\"sk-item\"><div class=\"sk-estimator sk-toggleable\"><input class=\"sk-toggleable__control sk-hidden--visually\" id=\"sk-estimator-id-13\" type=\"checkbox\" checked><label for=\"sk-estimator-id-13\" class=\"sk-toggleable__label sk-toggleable__label-arrow\">RandomForestRegressor</label><div class=\"sk-toggleable__content\"><pre>RandomForestRegressor(random_state=123)</pre></div></div></div></div></div>"
      ],
      "text/plain": [
       "RandomForestRegressor(random_state=123)"
      ]
     },
     "execution_count": 80,
     "metadata": {},
     "output_type": "execute_result"
    }
   ],
   "source": [
    "rand_forest = RandomForestRegressor(random_state=123)\n",
    "rand_forest.fit(X_train, y_train)"
   ]
  },
  {
   "cell_type": "code",
   "execution_count": 81,
   "metadata": {},
   "outputs": [
    {
     "data": {
      "text/plain": [
       "0.9806505483313053"
      ]
     },
     "execution_count": 81,
     "metadata": {},
     "output_type": "execute_result"
    }
   ],
   "source": [
    "rand_forest.score(X_test, y_test)"
   ]
  },
  {
   "cell_type": "markdown",
   "metadata": {},
   "source": [
    "### Hyperparameter Tuning:"
   ]
  },
  {
   "cell_type": "code",
   "execution_count": 82,
   "metadata": {},
   "outputs": [],
   "source": [
    "cv = ShuffleSplit(test_size=0.2, random_state=0)\n",
    "\n",
    "param_grid = {'max_features':['sqrt', 'log2', 10],\n",
    "              'max_depth':[9, 11, 13]}                 \n",
    "\n",
    "grid = GridSearchCV(rand_forest, param_grid=param_grid, cv=cv)"
   ]
  },
  {
   "cell_type": "code",
   "execution_count": 83,
   "metadata": {},
   "outputs": [
    {
     "data": {
      "text/html": [
       "<style>#sk-container-id-10 {color: black;background-color: white;}#sk-container-id-10 pre{padding: 0;}#sk-container-id-10 div.sk-toggleable {background-color: white;}#sk-container-id-10 label.sk-toggleable__label {cursor: pointer;display: block;width: 100%;margin-bottom: 0;padding: 0.3em;box-sizing: border-box;text-align: center;}#sk-container-id-10 label.sk-toggleable__label-arrow:before {content: \"▸\";float: left;margin-right: 0.25em;color: #696969;}#sk-container-id-10 label.sk-toggleable__label-arrow:hover:before {color: black;}#sk-container-id-10 div.sk-estimator:hover label.sk-toggleable__label-arrow:before {color: black;}#sk-container-id-10 div.sk-toggleable__content {max-height: 0;max-width: 0;overflow: hidden;text-align: left;background-color: #f0f8ff;}#sk-container-id-10 div.sk-toggleable__content pre {margin: 0.2em;color: black;border-radius: 0.25em;background-color: #f0f8ff;}#sk-container-id-10 input.sk-toggleable__control:checked~div.sk-toggleable__content {max-height: 200px;max-width: 100%;overflow: auto;}#sk-container-id-10 input.sk-toggleable__control:checked~label.sk-toggleable__label-arrow:before {content: \"▾\";}#sk-container-id-10 div.sk-estimator input.sk-toggleable__control:checked~label.sk-toggleable__label {background-color: #d4ebff;}#sk-container-id-10 div.sk-label input.sk-toggleable__control:checked~label.sk-toggleable__label {background-color: #d4ebff;}#sk-container-id-10 input.sk-hidden--visually {border: 0;clip: rect(1px 1px 1px 1px);clip: rect(1px, 1px, 1px, 1px);height: 1px;margin: -1px;overflow: hidden;padding: 0;position: absolute;width: 1px;}#sk-container-id-10 div.sk-estimator {font-family: monospace;background-color: #f0f8ff;border: 1px dotted black;border-radius: 0.25em;box-sizing: border-box;margin-bottom: 0.5em;}#sk-container-id-10 div.sk-estimator:hover {background-color: #d4ebff;}#sk-container-id-10 div.sk-parallel-item::after {content: \"\";width: 100%;border-bottom: 1px solid gray;flex-grow: 1;}#sk-container-id-10 div.sk-label:hover label.sk-toggleable__label {background-color: #d4ebff;}#sk-container-id-10 div.sk-serial::before {content: \"\";position: absolute;border-left: 1px solid gray;box-sizing: border-box;top: 0;bottom: 0;left: 50%;z-index: 0;}#sk-container-id-10 div.sk-serial {display: flex;flex-direction: column;align-items: center;background-color: white;padding-right: 0.2em;padding-left: 0.2em;position: relative;}#sk-container-id-10 div.sk-item {position: relative;z-index: 1;}#sk-container-id-10 div.sk-parallel {display: flex;align-items: stretch;justify-content: center;background-color: white;position: relative;}#sk-container-id-10 div.sk-item::before, #sk-container-id-10 div.sk-parallel-item::before {content: \"\";position: absolute;border-left: 1px solid gray;box-sizing: border-box;top: 0;bottom: 0;left: 50%;z-index: -1;}#sk-container-id-10 div.sk-parallel-item {display: flex;flex-direction: column;z-index: 1;position: relative;background-color: white;}#sk-container-id-10 div.sk-parallel-item:first-child::after {align-self: flex-end;width: 50%;}#sk-container-id-10 div.sk-parallel-item:last-child::after {align-self: flex-start;width: 50%;}#sk-container-id-10 div.sk-parallel-item:only-child::after {width: 0;}#sk-container-id-10 div.sk-dashed-wrapped {border: 1px dashed gray;margin: 0 0.4em 0.5em 0.4em;box-sizing: border-box;padding-bottom: 0.4em;background-color: white;}#sk-container-id-10 div.sk-label label {font-family: monospace;font-weight: bold;display: inline-block;line-height: 1.2em;}#sk-container-id-10 div.sk-label-container {text-align: center;}#sk-container-id-10 div.sk-container {/* jupyter's `normalize.less` sets `[hidden] { display: none; }` but bootstrap.min.css set `[hidden] { display: none !important; }` so we also need the `!important` here to be able to override the default hidden behavior on the sphinx rendered scikit-learn.org. See: https://github.com/scikit-learn/scikit-learn/issues/21755 */display: inline-block !important;position: relative;}#sk-container-id-10 div.sk-text-repr-fallback {display: none;}</style><div id=\"sk-container-id-10\" class=\"sk-top-container\"><div class=\"sk-text-repr-fallback\"><pre>GridSearchCV(cv=ShuffleSplit(n_splits=10, random_state=0, test_size=0.2, train_size=None),\n",
       "             estimator=RandomForestRegressor(random_state=123),\n",
       "             param_grid={&#x27;max_depth&#x27;: [9, 11, 13],\n",
       "                         &#x27;max_features&#x27;: [&#x27;sqrt&#x27;, &#x27;log2&#x27;, 10]})</pre><b>In a Jupyter environment, please rerun this cell to show the HTML representation or trust the notebook. <br />On GitHub, the HTML representation is unable to render, please try loading this page with nbviewer.org.</b></div><div class=\"sk-container\" hidden><div class=\"sk-item sk-dashed-wrapped\"><div class=\"sk-label-container\"><div class=\"sk-label sk-toggleable\"><input class=\"sk-toggleable__control sk-hidden--visually\" id=\"sk-estimator-id-14\" type=\"checkbox\" ><label for=\"sk-estimator-id-14\" class=\"sk-toggleable__label sk-toggleable__label-arrow\">GridSearchCV</label><div class=\"sk-toggleable__content\"><pre>GridSearchCV(cv=ShuffleSplit(n_splits=10, random_state=0, test_size=0.2, train_size=None),\n",
       "             estimator=RandomForestRegressor(random_state=123),\n",
       "             param_grid={&#x27;max_depth&#x27;: [9, 11, 13],\n",
       "                         &#x27;max_features&#x27;: [&#x27;sqrt&#x27;, &#x27;log2&#x27;, 10]})</pre></div></div></div><div class=\"sk-parallel\"><div class=\"sk-parallel-item\"><div class=\"sk-item\"><div class=\"sk-label-container\"><div class=\"sk-label sk-toggleable\"><input class=\"sk-toggleable__control sk-hidden--visually\" id=\"sk-estimator-id-15\" type=\"checkbox\" ><label for=\"sk-estimator-id-15\" class=\"sk-toggleable__label sk-toggleable__label-arrow\">estimator: RandomForestRegressor</label><div class=\"sk-toggleable__content\"><pre>RandomForestRegressor(random_state=123)</pre></div></div></div><div class=\"sk-serial\"><div class=\"sk-item\"><div class=\"sk-estimator sk-toggleable\"><input class=\"sk-toggleable__control sk-hidden--visually\" id=\"sk-estimator-id-16\" type=\"checkbox\" ><label for=\"sk-estimator-id-16\" class=\"sk-toggleable__label sk-toggleable__label-arrow\">RandomForestRegressor</label><div class=\"sk-toggleable__content\"><pre>RandomForestRegressor(random_state=123)</pre></div></div></div></div></div></div></div></div></div></div>"
      ],
      "text/plain": [
       "GridSearchCV(cv=ShuffleSplit(n_splits=10, random_state=0, test_size=0.2, train_size=None),\n",
       "             estimator=RandomForestRegressor(random_state=123),\n",
       "             param_grid={'max_depth': [9, 11, 13],\n",
       "                         'max_features': ['sqrt', 'log2', 10]})"
      ]
     },
     "execution_count": 83,
     "metadata": {},
     "output_type": "execute_result"
    }
   ],
   "source": [
    "grid.fit(X_train, y_train) "
   ]
  },
  {
   "cell_type": "code",
   "execution_count": 84,
   "metadata": {},
   "outputs": [
    {
     "data": {
      "text/html": [
       "<style>#sk-container-id-11 {color: black;background-color: white;}#sk-container-id-11 pre{padding: 0;}#sk-container-id-11 div.sk-toggleable {background-color: white;}#sk-container-id-11 label.sk-toggleable__label {cursor: pointer;display: block;width: 100%;margin-bottom: 0;padding: 0.3em;box-sizing: border-box;text-align: center;}#sk-container-id-11 label.sk-toggleable__label-arrow:before {content: \"▸\";float: left;margin-right: 0.25em;color: #696969;}#sk-container-id-11 label.sk-toggleable__label-arrow:hover:before {color: black;}#sk-container-id-11 div.sk-estimator:hover label.sk-toggleable__label-arrow:before {color: black;}#sk-container-id-11 div.sk-toggleable__content {max-height: 0;max-width: 0;overflow: hidden;text-align: left;background-color: #f0f8ff;}#sk-container-id-11 div.sk-toggleable__content pre {margin: 0.2em;color: black;border-radius: 0.25em;background-color: #f0f8ff;}#sk-container-id-11 input.sk-toggleable__control:checked~div.sk-toggleable__content {max-height: 200px;max-width: 100%;overflow: auto;}#sk-container-id-11 input.sk-toggleable__control:checked~label.sk-toggleable__label-arrow:before {content: \"▾\";}#sk-container-id-11 div.sk-estimator input.sk-toggleable__control:checked~label.sk-toggleable__label {background-color: #d4ebff;}#sk-container-id-11 div.sk-label input.sk-toggleable__control:checked~label.sk-toggleable__label {background-color: #d4ebff;}#sk-container-id-11 input.sk-hidden--visually {border: 0;clip: rect(1px 1px 1px 1px);clip: rect(1px, 1px, 1px, 1px);height: 1px;margin: -1px;overflow: hidden;padding: 0;position: absolute;width: 1px;}#sk-container-id-11 div.sk-estimator {font-family: monospace;background-color: #f0f8ff;border: 1px dotted black;border-radius: 0.25em;box-sizing: border-box;margin-bottom: 0.5em;}#sk-container-id-11 div.sk-estimator:hover {background-color: #d4ebff;}#sk-container-id-11 div.sk-parallel-item::after {content: \"\";width: 100%;border-bottom: 1px solid gray;flex-grow: 1;}#sk-container-id-11 div.sk-label:hover label.sk-toggleable__label {background-color: #d4ebff;}#sk-container-id-11 div.sk-serial::before {content: \"\";position: absolute;border-left: 1px solid gray;box-sizing: border-box;top: 0;bottom: 0;left: 50%;z-index: 0;}#sk-container-id-11 div.sk-serial {display: flex;flex-direction: column;align-items: center;background-color: white;padding-right: 0.2em;padding-left: 0.2em;position: relative;}#sk-container-id-11 div.sk-item {position: relative;z-index: 1;}#sk-container-id-11 div.sk-parallel {display: flex;align-items: stretch;justify-content: center;background-color: white;position: relative;}#sk-container-id-11 div.sk-item::before, #sk-container-id-11 div.sk-parallel-item::before {content: \"\";position: absolute;border-left: 1px solid gray;box-sizing: border-box;top: 0;bottom: 0;left: 50%;z-index: -1;}#sk-container-id-11 div.sk-parallel-item {display: flex;flex-direction: column;z-index: 1;position: relative;background-color: white;}#sk-container-id-11 div.sk-parallel-item:first-child::after {align-self: flex-end;width: 50%;}#sk-container-id-11 div.sk-parallel-item:last-child::after {align-self: flex-start;width: 50%;}#sk-container-id-11 div.sk-parallel-item:only-child::after {width: 0;}#sk-container-id-11 div.sk-dashed-wrapped {border: 1px dashed gray;margin: 0 0.4em 0.5em 0.4em;box-sizing: border-box;padding-bottom: 0.4em;background-color: white;}#sk-container-id-11 div.sk-label label {font-family: monospace;font-weight: bold;display: inline-block;line-height: 1.2em;}#sk-container-id-11 div.sk-label-container {text-align: center;}#sk-container-id-11 div.sk-container {/* jupyter's `normalize.less` sets `[hidden] { display: none; }` but bootstrap.min.css set `[hidden] { display: none !important; }` so we also need the `!important` here to be able to override the default hidden behavior on the sphinx rendered scikit-learn.org. See: https://github.com/scikit-learn/scikit-learn/issues/21755 */display: inline-block !important;position: relative;}#sk-container-id-11 div.sk-text-repr-fallback {display: none;}</style><div id=\"sk-container-id-11\" class=\"sk-top-container\"><div class=\"sk-text-repr-fallback\"><pre>RandomForestRegressor(max_depth=13, max_features=10, random_state=123)</pre><b>In a Jupyter environment, please rerun this cell to show the HTML representation or trust the notebook. <br />On GitHub, the HTML representation is unable to render, please try loading this page with nbviewer.org.</b></div><div class=\"sk-container\" hidden><div class=\"sk-item\"><div class=\"sk-estimator sk-toggleable\"><input class=\"sk-toggleable__control sk-hidden--visually\" id=\"sk-estimator-id-17\" type=\"checkbox\" checked><label for=\"sk-estimator-id-17\" class=\"sk-toggleable__label sk-toggleable__label-arrow\">RandomForestRegressor</label><div class=\"sk-toggleable__content\"><pre>RandomForestRegressor(max_depth=13, max_features=10, random_state=123)</pre></div></div></div></div></div>"
      ],
      "text/plain": [
       "RandomForestRegressor(max_depth=13, max_features=10, random_state=123)"
      ]
     },
     "execution_count": 84,
     "metadata": {},
     "output_type": "execute_result"
    }
   ],
   "source": [
    "grid.best_estimator_"
   ]
  },
  {
   "cell_type": "code",
   "execution_count": 87,
   "metadata": {},
   "outputs": [
    {
     "data": {
      "text/html": [
       "<style>#sk-container-id-12 {color: black;background-color: white;}#sk-container-id-12 pre{padding: 0;}#sk-container-id-12 div.sk-toggleable {background-color: white;}#sk-container-id-12 label.sk-toggleable__label {cursor: pointer;display: block;width: 100%;margin-bottom: 0;padding: 0.3em;box-sizing: border-box;text-align: center;}#sk-container-id-12 label.sk-toggleable__label-arrow:before {content: \"▸\";float: left;margin-right: 0.25em;color: #696969;}#sk-container-id-12 label.sk-toggleable__label-arrow:hover:before {color: black;}#sk-container-id-12 div.sk-estimator:hover label.sk-toggleable__label-arrow:before {color: black;}#sk-container-id-12 div.sk-toggleable__content {max-height: 0;max-width: 0;overflow: hidden;text-align: left;background-color: #f0f8ff;}#sk-container-id-12 div.sk-toggleable__content pre {margin: 0.2em;color: black;border-radius: 0.25em;background-color: #f0f8ff;}#sk-container-id-12 input.sk-toggleable__control:checked~div.sk-toggleable__content {max-height: 200px;max-width: 100%;overflow: auto;}#sk-container-id-12 input.sk-toggleable__control:checked~label.sk-toggleable__label-arrow:before {content: \"▾\";}#sk-container-id-12 div.sk-estimator input.sk-toggleable__control:checked~label.sk-toggleable__label {background-color: #d4ebff;}#sk-container-id-12 div.sk-label input.sk-toggleable__control:checked~label.sk-toggleable__label {background-color: #d4ebff;}#sk-container-id-12 input.sk-hidden--visually {border: 0;clip: rect(1px 1px 1px 1px);clip: rect(1px, 1px, 1px, 1px);height: 1px;margin: -1px;overflow: hidden;padding: 0;position: absolute;width: 1px;}#sk-container-id-12 div.sk-estimator {font-family: monospace;background-color: #f0f8ff;border: 1px dotted black;border-radius: 0.25em;box-sizing: border-box;margin-bottom: 0.5em;}#sk-container-id-12 div.sk-estimator:hover {background-color: #d4ebff;}#sk-container-id-12 div.sk-parallel-item::after {content: \"\";width: 100%;border-bottom: 1px solid gray;flex-grow: 1;}#sk-container-id-12 div.sk-label:hover label.sk-toggleable__label {background-color: #d4ebff;}#sk-container-id-12 div.sk-serial::before {content: \"\";position: absolute;border-left: 1px solid gray;box-sizing: border-box;top: 0;bottom: 0;left: 50%;z-index: 0;}#sk-container-id-12 div.sk-serial {display: flex;flex-direction: column;align-items: center;background-color: white;padding-right: 0.2em;padding-left: 0.2em;position: relative;}#sk-container-id-12 div.sk-item {position: relative;z-index: 1;}#sk-container-id-12 div.sk-parallel {display: flex;align-items: stretch;justify-content: center;background-color: white;position: relative;}#sk-container-id-12 div.sk-item::before, #sk-container-id-12 div.sk-parallel-item::before {content: \"\";position: absolute;border-left: 1px solid gray;box-sizing: border-box;top: 0;bottom: 0;left: 50%;z-index: -1;}#sk-container-id-12 div.sk-parallel-item {display: flex;flex-direction: column;z-index: 1;position: relative;background-color: white;}#sk-container-id-12 div.sk-parallel-item:first-child::after {align-self: flex-end;width: 50%;}#sk-container-id-12 div.sk-parallel-item:last-child::after {align-self: flex-start;width: 50%;}#sk-container-id-12 div.sk-parallel-item:only-child::after {width: 0;}#sk-container-id-12 div.sk-dashed-wrapped {border: 1px dashed gray;margin: 0 0.4em 0.5em 0.4em;box-sizing: border-box;padding-bottom: 0.4em;background-color: white;}#sk-container-id-12 div.sk-label label {font-family: monospace;font-weight: bold;display: inline-block;line-height: 1.2em;}#sk-container-id-12 div.sk-label-container {text-align: center;}#sk-container-id-12 div.sk-container {/* jupyter's `normalize.less` sets `[hidden] { display: none; }` but bootstrap.min.css set `[hidden] { display: none !important; }` so we also need the `!important` here to be able to override the default hidden behavior on the sphinx rendered scikit-learn.org. See: https://github.com/scikit-learn/scikit-learn/issues/21755 */display: inline-block !important;position: relative;}#sk-container-id-12 div.sk-text-repr-fallback {display: none;}</style><div id=\"sk-container-id-12\" class=\"sk-top-container\"><div class=\"sk-text-repr-fallback\"><pre>RandomForestRegressor(criterion=&#x27;friedman_mse&#x27;, max_depth=10, max_features=13,\n",
       "                      random_state=42)</pre><b>In a Jupyter environment, please rerun this cell to show the HTML representation or trust the notebook. <br />On GitHub, the HTML representation is unable to render, please try loading this page with nbviewer.org.</b></div><div class=\"sk-container\" hidden><div class=\"sk-item\"><div class=\"sk-estimator sk-toggleable\"><input class=\"sk-toggleable__control sk-hidden--visually\" id=\"sk-estimator-id-18\" type=\"checkbox\" checked><label for=\"sk-estimator-id-18\" class=\"sk-toggleable__label sk-toggleable__label-arrow\">RandomForestRegressor</label><div class=\"sk-toggleable__content\"><pre>RandomForestRegressor(criterion=&#x27;friedman_mse&#x27;, max_depth=10, max_features=13,\n",
       "                      random_state=42)</pre></div></div></div></div></div>"
      ],
      "text/plain": [
       "RandomForestRegressor(criterion='friedman_mse', max_depth=10, max_features=13,\n",
       "                      random_state=42)"
      ]
     },
     "execution_count": 87,
     "metadata": {},
     "output_type": "execute_result"
    }
   ],
   "source": [
    "new_rand_forest = RandomForestRegressor(bootstrap=True, criterion='friedman_mse', max_depth=10,\n",
    "           max_features=13,  random_state=42,)\n",
    "new_rand_forest.fit(X_train, y_train)"
   ]
  },
  {
   "cell_type": "code",
   "execution_count": 88,
   "metadata": {},
   "outputs": [
    {
     "data": {
      "text/plain": [
       "0.9424322902722811"
      ]
     },
     "execution_count": 88,
     "metadata": {},
     "output_type": "execute_result"
    }
   ],
   "source": [
    "new_rand_forest.score(X_test, y_test)"
   ]
  },
  {
   "cell_type": "markdown",
   "metadata": {},
   "source": [
    "### 4. Xgboost regressor :"
   ]
  },
  {
   "cell_type": "code",
   "execution_count": 91,
   "metadata": {},
   "outputs": [
    {
     "name": "stdout",
     "output_type": "stream",
     "text": [
      "Linear Regressor accuracy is 0.8603055607641394\n",
      "DecisionTree Regressor accuracy is 0.9293338101837106\n",
      "RandomForest regressor accuracy is 0.9424322902722811\n"
     ]
    }
   ],
   "source": [
    "print(\"\"\"Linear Regressor accuracy is {lin}\n",
    "DecisionTree Regressor accuracy is {Dec}\n",
    "RandomForest regressor accuracy is {ran}\"\"\".format(lin=new_linear_reg.score(X_test, y_test),\n",
    "                                                       Dec=new_deci_tree.score(X_test, y_test),\n",
    "                                                       ran=new_rand_forest.score(X_test, y_test)))"
   ]
  },
  {
   "cell_type": "markdown",
   "metadata": {},
   "source": [
    "By accuracy comparision performed above we can say hear that Random Forest regressor gives better result than any other model. and it can predict the target function with approx 94% accuracy."
   ]
  },
  {
   "cell_type": "code",
   "execution_count": null,
   "metadata": {},
   "outputs": [],
   "source": []
  }
 ],
 "metadata": {
  "kernelspec": {
   "display_name": "Python 3 (ipykernel)",
   "language": "python",
   "name": "python3"
  },
  "language_info": {
   "codemirror_mode": {
    "name": "ipython",
    "version": 3
   },
   "file_extension": ".py",
   "mimetype": "text/x-python",
   "name": "python",
   "nbconvert_exporter": "python",
   "pygments_lexer": "ipython3",
   "version": "3.9.7"
  }
 },
 "nbformat": 4,
 "nbformat_minor": 4
}
